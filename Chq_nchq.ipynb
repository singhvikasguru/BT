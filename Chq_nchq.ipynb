{
  "nbformat": 4,
  "nbformat_minor": 0,
  "metadata": {
    "colab": {
      "name": "Chq_nchq.ipynb",
      "version": "0.3.2",
      "provenance": [],
      "collapsed_sections": [],
      "include_colab_link": true
    },
    "kernelspec": {
      "name": "python3",
      "display_name": "Python 3"
    },
    "accelerator": "GPU"
  },
  "cells": [
    {
      "cell_type": "markdown",
      "metadata": {
        "id": "view-in-github",
        "colab_type": "text"
      },
      "source": [
        "<a href=\"https://colab.research.google.com/github/singhvikasguru/BT/blob/master/Chq_nchq.ipynb\" target=\"_parent\"><img src=\"https://colab.research.google.com/assets/colab-badge.svg\" alt=\"Open In Colab\"/></a>"
      ]
    },
    {
      "metadata": {
        "colab_type": "code",
        "outputId": "d7398b1c-b469-43af-ec1b-138c295e679e",
        "id": "sNdDvTI60pkv",
        "colab": {
          "resources": {
            "http://localhost:8080/nbextensions/google.colab/files.js": {
              "data": "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",
              "ok": true,
              "headers": [
                [
                  "content-type",
                  "application/javascript"
                ]
              ],
              "status": 200,
              "status_text": ""
            }
          },
          "base_uri": "https://localhost:8080/",
          "height": 40
        }
      },
      "cell_type": "code",
      "source": [
        "from google.colab import files\n",
        "uploaded = files.upload()"
      ],
      "execution_count": 0,
      "outputs": [
        {
          "output_type": "display_data",
          "data": {
            "text/html": [
              "\n",
              "     <input type=\"file\" id=\"files-a4c246a2-374d-45bb-b495-d821e1e414ad\" name=\"files[]\" multiple disabled />\n",
              "     <output id=\"result-a4c246a2-374d-45bb-b495-d821e1e414ad\">\n",
              "      Upload widget is only available when the cell has been executed in the\n",
              "      current browser session. Please rerun this cell to enable.\n",
              "      </output>\n",
              "      <script src=\"/nbextensions/google.colab/files.js\"></script> "
            ],
            "text/plain": [
              "<IPython.core.display.HTML object>"
            ]
          },
          "metadata": {
            "tags": []
          }
        }
      ]
    },
    {
      "metadata": {
        "id": "3M54ESOarJPz",
        "colab_type": "code",
        "colab": {}
      },
      "cell_type": "code",
      "source": [
        ""
      ],
      "execution_count": 0,
      "outputs": []
    },
    {
      "metadata": {
        "id": "nyBKrzQkFsQ8",
        "colab_type": "code",
        "outputId": "76f463cd-7b68-49d9-c0b8-21ea3ae30569",
        "colab": {
          "base_uri": "https://localhost:8080/",
          "height": 51
        }
      },
      "cell_type": "code",
      "source": [
        "!pip install -U -q PyDrive\n",
        "from pydrive.auth import GoogleAuth\n",
        "from pydrive.drive import GoogleDrive\n",
        "from google.colab import auth\n",
        "from oauth2client.client import GoogleCredentials"
      ],
      "execution_count": 0,
      "outputs": [
        {
          "output_type": "stream",
          "text": [
            "\u001b[?25l\r\u001b[K    1% |▎                               | 10kB 13.1MB/s eta 0:00:01\r\u001b[K    2% |▋                               | 20kB 1.9MB/s eta 0:00:01\r\u001b[K    3% |█                               | 30kB 2.7MB/s eta 0:00:01\r\u001b[K    4% |█▎                              | 40kB 1.8MB/s eta 0:00:01\r\u001b[K    5% |█▋                              | 51kB 2.2MB/s eta 0:00:01\r\u001b[K    6% |██                              | 61kB 2.6MB/s eta 0:00:01\r\u001b[K    7% |██▎                             | 71kB 3.0MB/s eta 0:00:01\r\u001b[K    8% |██▋                             | 81kB 3.4MB/s eta 0:00:01\r\u001b[K    9% |███                             | 92kB 3.8MB/s eta 0:00:01\r\u001b[K    10% |███▎                            | 102kB 2.9MB/s eta 0:00:01\r\u001b[K    11% |███▋                            | 112kB 2.9MB/s eta 0:00:01\r\u001b[K    12% |████                            | 122kB 4.0MB/s eta 0:00:01\r\u001b[K    13% |████▎                           | 133kB 4.1MB/s eta 0:00:01\r\u001b[K    14% |████▋                           | 143kB 7.5MB/s eta 0:00:01\r\u001b[K    15% |█████                           | 153kB 7.6MB/s eta 0:00:01\r\u001b[K    16% |█████▎                          | 163kB 7.5MB/s eta 0:00:01\r\u001b[K    17% |█████▋                          | 174kB 7.5MB/s eta 0:00:01\r\u001b[K    18% |██████                          | 184kB 7.5MB/s eta 0:00:01\r\u001b[K    19% |██████▎                         | 194kB 7.4MB/s eta 0:00:01\r\u001b[K    20% |██████▋                         | 204kB 30.1MB/s eta 0:00:01\r\u001b[K    21% |███████                         | 215kB 8.5MB/s eta 0:00:01\r\u001b[K    22% |███████▎                        | 225kB 8.5MB/s eta 0:00:01\r\u001b[K    23% |███████▋                        | 235kB 8.6MB/s eta 0:00:01\r\u001b[K    24% |████████                        | 245kB 8.7MB/s eta 0:00:01\r\u001b[K    25% |████████▎                       | 256kB 8.8MB/s eta 0:00:01\r\u001b[K    26% |████████▋                       | 266kB 8.7MB/s eta 0:00:01\r\u001b[K    27% |█████████                       | 276kB 8.8MB/s eta 0:00:01\r\u001b[K    29% |█████████▎                      | 286kB 8.8MB/s eta 0:00:01\r\u001b[K    30% |█████████▋                      | 296kB 8.9MB/s eta 0:00:01\r\u001b[K    31% |██████████                      | 307kB 9.2MB/s eta 0:00:01\r\u001b[K    32% |██████████▎                     | 317kB 44.5MB/s eta 0:00:01\r\u001b[K    33% |██████████▋                     | 327kB 45.9MB/s eta 0:00:01\r\u001b[K    34% |███████████                     | 337kB 47.4MB/s eta 0:00:01\r\u001b[K    35% |███████████▎                    | 348kB 43.7MB/s eta 0:00:01\r\u001b[K    36% |███████████▋                    | 358kB 44.2MB/s eta 0:00:01\r\u001b[K    37% |████████████                    | 368kB 47.9MB/s eta 0:00:01\r\u001b[K    38% |████████████▎                   | 378kB 48.5MB/s eta 0:00:01\r\u001b[K    39% |████████████▋                   | 389kB 49.0MB/s eta 0:00:01\r\u001b[K    40% |█████████████                   | 399kB 48.0MB/s eta 0:00:01\r\u001b[K    41% |█████████████▎                  | 409kB 9.6MB/s eta 0:00:01\r\u001b[K    42% |█████████████▋                  | 419kB 9.4MB/s eta 0:00:01\r\u001b[K    43% |██████████████                  | 430kB 9.4MB/s eta 0:00:01\r\u001b[K    44% |██████████████▎                 | 440kB 9.3MB/s eta 0:00:01\r\u001b[K    45% |██████████████▋                 | 450kB 9.3MB/s eta 0:00:01\r\u001b[K    46% |███████████████                 | 460kB 9.2MB/s eta 0:00:01\r\u001b[K    47% |███████████████▎                | 471kB 9.3MB/s eta 0:00:01\r\u001b[K    48% |███████████████▋                | 481kB 9.3MB/s eta 0:00:01\r\u001b[K    49% |████████████████                | 491kB 9.3MB/s eta 0:00:01\r\u001b[K    50% |████████████████▎               | 501kB 9.3MB/s eta 0:00:01\r\u001b[K    51% |████████████████▋               | 512kB 38.4MB/s eta 0:00:01\r\u001b[K    52% |█████████████████               | 522kB 41.8MB/s eta 0:00:01\r\u001b[K    53% |█████████████████▎              | 532kB 42.2MB/s eta 0:00:01\r\u001b[K    54% |█████████████████▋              | 542kB 42.9MB/s eta 0:00:01\r\u001b[K    55% |██████████████████              | 552kB 48.5MB/s eta 0:00:01\r\u001b[K    57% |██████████████████▎             | 563kB 48.1MB/s eta 0:00:01\r\u001b[K    58% |██████████████████▋             | 573kB 48.7MB/s eta 0:00:01\r\u001b[K    59% |███████████████████             | 583kB 47.3MB/s eta 0:00:01\r\u001b[K    60% |███████████████████▎            | 593kB 47.4MB/s eta 0:00:01\r\u001b[K    61% |███████████████████▋            | 604kB 46.9MB/s eta 0:00:01\r\u001b[K    62% |████████████████████            | 614kB 49.5MB/s eta 0:00:01\r\u001b[K    63% |████████████████████▎           | 624kB 48.6MB/s eta 0:00:01\r\u001b[K    64% |████████████████████▋           | 634kB 49.5MB/s eta 0:00:01\r\u001b[K    65% |█████████████████████           | 645kB 49.6MB/s eta 0:00:01\r\u001b[K    66% |█████████████████████▎          | 655kB 49.4MB/s eta 0:00:01\r\u001b[K    67% |█████████████████████▋          | 665kB 39.7MB/s eta 0:00:01\r\u001b[K    68% |██████████████████████          | 675kB 39.1MB/s eta 0:00:01\r\u001b[K    69% |██████████████████████▎         | 686kB 39.4MB/s eta 0:00:01\r\u001b[K    70% |██████████████████████▋         | 696kB 39.6MB/s eta 0:00:01\r\u001b[K    71% |███████████████████████         | 706kB 39.2MB/s eta 0:00:01\r\u001b[K    72% |███████████████████████▎        | 716kB 40.4MB/s eta 0:00:01\r\u001b[K    73% |███████████████████████▋        | 727kB 40.4MB/s eta 0:00:01\r\u001b[K    74% |████████████████████████        | 737kB 39.4MB/s eta 0:00:01\r\u001b[K    75% |████████████████████████▎       | 747kB 39.8MB/s eta 0:00:01\r\u001b[K    76% |████████████████████████▋       | 757kB 39.7MB/s eta 0:00:01\r\u001b[K    77% |████████████████████████▉       | 768kB 50.3MB/s eta 0:00:01\r\u001b[K    78% |█████████████████████████▏      | 778kB 51.2MB/s eta 0:00:01\r\u001b[K    79% |█████████████████████████▌      | 788kB 49.2MB/s eta 0:00:01\r\u001b[K    80% |█████████████████████████▉      | 798kB 49.9MB/s eta 0:00:01\r\u001b[K    81% |██████████████████████████▏     | 808kB 50.0MB/s eta 0:00:01\r\u001b[K    82% |██████████████████████████▌     | 819kB 19.9MB/s eta 0:00:01\r\u001b[K    83% |██████████████████████████▉     | 829kB 19.8MB/s eta 0:00:01\r\u001b[K    85% |███████████████████████████▏    | 839kB 19.9MB/s eta 0:00:01\r\u001b[K    86% |███████████████████████████▌    | 849kB 19.7MB/s eta 0:00:01\r\u001b[K    87% |███████████████████████████▉    | 860kB 18.5MB/s eta 0:00:01\r\u001b[K    88% |████████████████████████████▏   | 870kB 18.4MB/s eta 0:00:01\r\u001b[K    89% |████████████████████████████▌   | 880kB 18.3MB/s eta 0:00:01\r\u001b[K    90% |████████████████████████████▉   | 890kB 18.6MB/s eta 0:00:01\r\u001b[K    91% |█████████████████████████████▏  | 901kB 18.3MB/s eta 0:00:01\r\u001b[K    92% |█████████████████████████████▌  | 911kB 18.4MB/s eta 0:00:01\r\u001b[K    93% |█████████████████████████████▉  | 921kB 40.8MB/s eta 0:00:01\r\u001b[K    94% |██████████████████████████████▏ | 931kB 41.2MB/s eta 0:00:01\r\u001b[K    95% |██████████████████████████████▌ | 942kB 41.4MB/s eta 0:00:01\r\u001b[K    96% |██████████████████████████████▉ | 952kB 41.7MB/s eta 0:00:01\r\u001b[K    97% |███████████████████████████████▏| 962kB 48.7MB/s eta 0:00:01\r\u001b[K    98% |███████████████████████████████▌| 972kB 49.4MB/s eta 0:00:01\r\u001b[K    99% |███████████████████████████████▉| 983kB 37.4MB/s eta 0:00:01\r\u001b[K    100% |████████████████████████████████| 993kB 15.4MB/s \n",
            "\u001b[?25h  Building wheel for PyDrive (setup.py) ... \u001b[?25ldone\n",
            "\u001b[?25h"
          ],
          "name": "stdout"
        }
      ]
    },
    {
      "metadata": {
        "id": "16EnCoXSF9q6",
        "colab_type": "code",
        "colab": {}
      },
      "cell_type": "code",
      "source": [
        "# Authenticate and create the PyDrive client.\n",
        "auth.authenticate_user()\n",
        "gauth = GoogleAuth()\n",
        "gauth.credentials = GoogleCredentials.get_application_default()\n",
        "drive = GoogleDrive(gauth)"
      ],
      "execution_count": 0,
      "outputs": []
    },
    {
      "metadata": {
        "id": "tKyKJ63YGzyB",
        "colab_type": "code",
        "colab": {}
      },
      "cell_type": "code",
      "source": [
        "link='https://drive.google.com/file/d/15AqNav9cQVa70tmOun0pp30f89OxlCk-/view?usp=sharing'\n",
        "fluff, id = link.split('=')"
      ],
      "execution_count": 0,
      "outputs": []
    },
    {
      "metadata": {
        "id": "L5iP21y7id5-",
        "colab_type": "code",
        "colab": {}
      },
      "cell_type": "code",
      "source": [
        "downloaded = drive.CreateFile({'id':id}) \n",
        "downloaded.GetContentFile('Non Cheque Image.zip')  "
      ],
      "execution_count": 0,
      "outputs": []
    },
    {
      "metadata": {
        "id": "_AHvah7Bmpv1",
        "colab_type": "code",
        "colab": {}
      },
      "cell_type": "code",
      "source": [
        "from google.colab import auth\n",
        "auth.authenticate_user()\n",
        "from oauth2client.client import GoogleCredentials\n",
        "creds = GoogleCredentials.get_application_default()"
      ],
      "execution_count": 0,
      "outputs": []
    },
    {
      "metadata": {
        "id": "S4OgFGlRmIwE",
        "colab_type": "code",
        "outputId": "af0d3e6d-df75-4170-84b5-e56a21b9fb6b",
        "colab": {
          "base_uri": "https://localhost:8080/",
          "height": 34
        }
      },
      "cell_type": "code",
      "source": [
        "!apt-get install -y -qq software-properties-common python-software-properties module-init-tools\n",
        "!add-apt-repository -y ppa:alessandro-strada/ppa 2>&1 > /dev/null\n",
        "!apt-get update -qq 2>&1 > /dev/null\n",
        "!apt-get -y install -qq google-drive-ocamlfuse fuse"
      ],
      "execution_count": 0,
      "outputs": [
        {
          "output_type": "stream",
          "text": [
            "E: Package 'python-software-properties' has no installation candidate\n"
          ],
          "name": "stdout"
        }
      ]
    },
    {
      "metadata": {
        "id": "odUSCRJVmdwm",
        "colab_type": "code",
        "outputId": "bfdafc86-bc45-4df0-d3aa-0056b1b8c17a",
        "colab": {
          "base_uri": "https://localhost:8080/",
          "height": 34
        }
      },
      "cell_type": "code",
      "source": [
        "import getpass\n",
        "!google-drive-ocamlfuse -headless -id={creds.client_id} -secret={creds.client_secret} < /dev/null 2>&1 | grep URL\n",
        "vcode = getpass.getpass()\n",
        "!echo {vcode} | google-drive-ocamlfuse -headless -id={creds.client_id} -secret={creds.client_secret}"
      ],
      "execution_count": 0,
      "outputs": [
        {
          "output_type": "stream",
          "text": [
            "··········\n"
          ],
          "name": "stdout"
        }
      ]
    },
    {
      "metadata": {
        "id": "8uLqqpG2nAPw",
        "colab_type": "code",
        "outputId": "b695af24-7b9a-4a4f-b2ec-48fe8a54af2f",
        "colab": {
          "base_uri": "https://localhost:8080/",
          "height": 85
        }
      },
      "cell_type": "code",
      "source": [
        "!mkdir gdrive\n",
        "!google-drive-ocamlfuse gdrive\n",
        "!ls gdrive\n",
        "!cd gdrive"
      ],
      "execution_count": 0,
      "outputs": [
        {
          "output_type": "stream",
          "text": [
            "mkdir: cannot create directory ‘gdrive’: File exists\n",
            "fuse: mountpoint is not empty\n",
            "fuse: if you are sure this is safe, use the 'nonempty' mount option\n",
            " Chq_nchq.ipynb   Data\t'Getting started'\n"
          ],
          "name": "stdout"
        }
      ]
    },
    {
      "metadata": {
        "id": "Nav9PYTlo1gj",
        "colab_type": "code",
        "outputId": "87c61430-e639-41c5-99f0-aafeb39d0183",
        "colab": {
          "base_uri": "https://localhost:8080/",
          "height": 51
        }
      },
      "cell_type": "code",
      "source": [
        "!ls gdrive\n",
        "!cd gdrive/Data\n",
        "!ls gdrive/Data"
      ],
      "execution_count": 0,
      "outputs": [
        {
          "output_type": "stream",
          "text": [
            " Chq_nchq.ipynb   Data\t'Getting started'\n",
            "'Non Cheque Image.zip'\t PngDocument_26dec.zip\n"
          ],
          "name": "stdout"
        }
      ]
    },
    {
      "metadata": {
        "id": "M1Vy5jq722nJ",
        "colab_type": "code",
        "colab": {}
      },
      "cell_type": "code",
      "source": [
        "import zipfile\n",
        "a=!unzip gdrive/Data/PngDocument_26dec.zip\n",
        "a2=!unzip gdrive/Data/Non\\ Cheque\\ Image.zip"
      ],
      "execution_count": 0,
      "outputs": []
    },
    {
      "metadata": {
        "id": "1KwWb4smhGL7",
        "colab_type": "code",
        "outputId": "9b140d0e-ce42-47cb-cc16-4ec16dcff654",
        "colab": {
          "base_uri": "https://localhost:8080/",
          "height": 34
        }
      },
      "cell_type": "code",
      "source": [
        "import cv2\n",
        "import numpy as np\n",
        "import pandas as pd\n",
        "import matplotlib.pyplot as plt\n",
        "import os\n",
        "import random\n",
        "import gc\n",
        "import glob\n",
        "import matplotlib.image as mping\n",
        "import seaborn as sns\n",
        "from sklearn.model_selection import train_test_split\n",
        "\n",
        "#model import\n",
        "from keras import layers\n",
        "from keras import models\n",
        "from keras import optimizers\n",
        "from keras.preprocessing.image import ImageDataGenerator\n",
        "from keras.preprocessing.image import img_to_array, load_img"
      ],
      "execution_count": 0,
      "outputs": [
        {
          "output_type": "stream",
          "text": [
            "Using TensorFlow backend.\n"
          ],
          "name": "stderr"
        }
      ]
    },
    {
      "metadata": {
        "colab_type": "code",
        "id": "5fa9NzmN0qU1",
        "colab": {}
      },
      "cell_type": "code",
      "source": [
        "\n",
        "chq_images=[]\n",
        "for x in a[2:3002]:\n",
        "  sp=x.split(':')\n",
        "  sp2=sp[1]\n",
        "  sp2=sp2.strip()\n",
        "  chq_images.append(cv2.imread(sp2))"
      ],
      "execution_count": 0,
      "outputs": []
    },
    {
      "metadata": {
        "id": "k2mMfLjHg6PR",
        "colab_type": "code",
        "colab": {}
      },
      "cell_type": "code",
      "source": [
        "nchq_images=[]\n",
        "for x in a2[2:2202]:\n",
        "  sp=x.split(':')\n",
        "  sp2=sp[1]\n",
        "  sp2=sp2.strip()\n",
        "  nchq_images.append(cv2.imread(sp2))"
      ],
      "execution_count": 0,
      "outputs": []
    },
    {
      "metadata": {
        "id": "RChpTmwpgaz3",
        "colab_type": "code",
        "outputId": "128c6e9f-2c72-41a8-9f99-f38732f5ff58",
        "colab": {
          "base_uri": "https://localhost:8080/",
          "height": 34
        }
      },
      "cell_type": "code",
      "source": [
        "\n",
        "fchq_images=chq_images[0:1500]\n",
        "del chq_images\n",
        "gc.collect()"
      ],
      "execution_count": 0,
      "outputs": [
        {
          "output_type": "execute_result",
          "data": {
            "text/plain": [
              "145"
            ]
          },
          "metadata": {
            "tags": []
          },
          "execution_count": 9
        }
      ]
    },
    {
      "metadata": {
        "id": "5eBqCy3reOy_",
        "colab_type": "code",
        "outputId": "9e160063-f745-4621-9479-66e6a6024589",
        "colab": {
          "base_uri": "https://localhost:8080/",
          "height": 51
        }
      },
      "cell_type": "code",
      "source": [
        "print(len(fchq_images))\n",
        "print(len(nchq_images))"
      ],
      "execution_count": 0,
      "outputs": [
        {
          "output_type": "stream",
          "text": [
            "1500\n",
            "2200\n"
          ],
          "name": "stdout"
        }
      ]
    },
    {
      "metadata": {
        "id": "18eXyPUelS8n",
        "colab_type": "code",
        "outputId": "7d744dda-b94b-425f-d627-4521bb215512",
        "colab": {
          "base_uri": "https://localhost:8080/",
          "height": 34
        }
      },
      "cell_type": "code",
      "source": [
        "n=1400\n",
        "train_images=nchq_images[:n]+fchq_images[:int(n)]\n",
        "train_labels=[0 for x in range(0, n)]\n",
        "for i in range(0, int(n)):\n",
        "    train_labels.append(1)\n",
        "zip_train=list(zip(train_images, train_labels))\n",
        "random.shuffle(zip_train)\n",
        "train_images, train_labels=zip(*zip_train)\n",
        "\n",
        "test_images=fchq_images[n:(n+100)]+nchq_images[n:(n+100)]\n",
        "\n",
        "del fchq_images\n",
        "del nchq_images\n",
        "gc.collect()"
      ],
      "execution_count": 0,
      "outputs": [
        {
          "output_type": "execute_result",
          "data": {
            "text/plain": [
              "250"
            ]
          },
          "metadata": {
            "tags": []
          },
          "execution_count": 20
        }
      ]
    },
    {
      "metadata": {
        "id": "wms1t0eWml-G",
        "colab_type": "code",
        "outputId": "8931e384-b9ef-4411-95db-fb7b890b9ba5",
        "colab": {
          "base_uri": "https://localhost:8080/",
          "height": 34
        }
      },
      "cell_type": "code",
      "source": [
        "nrows=150\n",
        "ncols=150\n",
        "channels=1 # 3 if colour image is needed\n",
        "X=[]\n",
        "X_test=[]\n",
        "for img in train_images:\n",
        "    X.append(cv2.resize(img, (nrows, ncols), interpolation=cv2.INTER_CUBIC))\n",
        "for img in test_images:\n",
        "    X_test.append(cv2.resize(img, (nrows, ncols), interpolation=cv2.INTER_CUBIC))\n",
        "Y=train_labels\n",
        "Y=np.asarray(Y)\n",
        "X=np.asarray(X)\n",
        "X_test=np.asarray(X_test)\n",
        "\n",
        "del train_images\n",
        "gc.collect()"
      ],
      "execution_count": 0,
      "outputs": [
        {
          "output_type": "execute_result",
          "data": {
            "text/plain": [
              "41"
            ]
          },
          "metadata": {
            "tags": []
          },
          "execution_count": 21
        }
      ]
    },
    {
      "metadata": {
        "id": "ph5XQ5IUms7M",
        "colab_type": "code",
        "outputId": "6fefe9ab-6140-4b99-a0a5-9da832ce1439",
        "colab": {
          "base_uri": "https://localhost:8080/",
          "height": 413
        }
      },
      "cell_type": "code",
      "source": [
        "sns.countplot(Y)\n",
        "plt.title(\"Labels\")    "
      ],
      "execution_count": 0,
      "outputs": [
        {
          "output_type": "stream",
          "text": [
            "/usr/local/lib/python3.6/dist-packages/seaborn/categorical.py:1428: FutureWarning: remove_na is deprecated and is a private function. Do not use.\n",
            "  stat_data = remove_na(group_data)\n"
          ],
          "name": "stderr"
        },
        {
          "output_type": "execute_result",
          "data": {
            "text/plain": [
              "Text(0.5, 1.0, 'Labels')"
            ]
          },
          "metadata": {
            "tags": []
          },
          "execution_count": 22
        },
        {
          "output_type": "display_data",
          "data": {
            "image/png": "[encoded data removed]",
            "text/plain": [
              "<Figure size 576x396 with 1 Axes>"
            ]
          },
          "metadata": {
            "tags": []
          }
        }
      ]
    },
    {
      "metadata": {
        "id": "BYpA2G_vmv8Y",
        "colab_type": "code",
        "outputId": "b17c436e-f752-4dbb-9df6-7c0ebdeed555",
        "colab": {
          "base_uri": "https://localhost:8080/",
          "height": 34
        }
      },
      "cell_type": "code",
      "source": [
        "X_train, X_val, y_train, y_val=train_test_split(X, Y, test_size=0.2, random_state=2)\n",
        "\n",
        "del X\n",
        "del Y\n",
        "gc.collect()"
      ],
      "execution_count": 0,
      "outputs": [
        {
          "output_type": "execute_result",
          "data": {
            "text/plain": [
              "0"
            ]
          },
          "metadata": {
            "tags": []
          },
          "execution_count": 23
        }
      ]
    },
    {
      "metadata": {
        "id": "StfnAQ1fm3wA",
        "colab_type": "code",
        "outputId": "f0ebc323-5371-4e62-c6b6-f473527bf098",
        "colab": {
          "base_uri": "https://localhost:8080/",
          "height": 139
        }
      },
      "cell_type": "code",
      "source": [
        "model=models.Sequential()\n",
        "model.add(layers.Conv2D(32, (3,3), activation='relu', input_shape=(150, 150, 3)))\n",
        "model.add(layers.MaxPooling2D((2,2)))\n",
        "model.add(layers.Conv2D(64, (3,3), activation='relu'))\n",
        "model.add(layers.MaxPooling2D((2,2)))\n",
        "model.add(layers.Conv2D(128, (3,3), activation='relu'))\n",
        "model.add(layers.MaxPooling2D((2,2)))\n",
        "model.add(layers.Conv2D(128, (3,3), activation='relu'))\n",
        "model.add(layers.MaxPooling2D((2,2)))\n",
        "model.add(layers.Flatten())\n",
        "model.add(layers.Dropout(0.5))\n",
        "model.add(layers.Dense(512, activation='relu'))\n",
        "model.add(layers.Dense(1, activation='sigmoid'))\n",
        "\n",
        "model.compile(loss='binary_crossentropy', optimizer=optimizers.RMSprop(lr=1e-4), metrics=['acc'])\n"
      ],
      "execution_count": 0,
      "outputs": [
        {
          "output_type": "stream",
          "text": [
            "WARNING:tensorflow:From /usr/local/lib/python3.6/dist-packages/tensorflow/python/framework/op_def_library.py:263: colocate_with (from tensorflow.python.framework.ops) is deprecated and will be removed in a future version.\n",
            "Instructions for updating:\n",
            "Colocations handled automatically by placer.\n",
            "WARNING:tensorflow:From /usr/local/lib/python3.6/dist-packages/keras/backend/tensorflow_backend.py:3445: calling dropout (from tensorflow.python.ops.nn_ops) with keep_prob is deprecated and will be removed in a future version.\n",
            "Instructions for updating:\n",
            "Please use `rate` instead of `keep_prob`. Rate should be set to `rate = 1 - keep_prob`.\n"
          ],
          "name": "stdout"
        }
      ]
    },
    {
      "metadata": {
        "id": "4NoQp90tm62h",
        "colab_type": "code",
        "outputId": "6d205349-58fe-4966-f390-aa3403918004",
        "colab": {
          "base_uri": "https://localhost:8080/",
          "height": 632
        }
      },
      "cell_type": "code",
      "source": [
        "train_datagen=ImageDataGenerator(rescale=1./255, rotation_range=40, width_shift_range=0.2, height_shift_range=0.2, shear_range=0.2, zoom_range=0.2, horizontal_flip=True)\n",
        "val_datagen=ImageDataGenerator(rescale=1./255)\n",
        "\n",
        "batch_size=32\n",
        "train_genrator=train_datagen.flow(X_train, y_train, batch_size=batch_size)\n",
        "val_genrator=val_datagen.flow(X_val, y_val, batch_size=batch_size)\n",
        "history=model.fit_generator(train_genrator, steps_per_epoch=X_train.shape[0]//batch_size, epochs=64, validation_data=val_genrator, validation_steps=X_val.shape[0]//batch_size)\n"
      ],
      "execution_count": 0,
      "outputs": [
        {
          "output_type": "stream",
          "text": [
            "WARNING:tensorflow:From /usr/local/lib/python3.6/dist-packages/tensorflow/python/ops/math_ops.py:3066: to_int32 (from tensorflow.python.ops.math_ops) is deprecated and will be removed in a future version.\n",
            "Instructions for updating:\n",
            "Use tf.cast instead.\n",
            "Epoch 1/16\n",
            "70/70 [==============================] - 20s 288ms/step - loss: 0.6596 - acc: 0.5795 - val_loss: 0.6111 - val_acc: 0.6029\n",
            "Epoch 2/16\n",
            "70/70 [==============================] - 15s 214ms/step - loss: 0.5810 - acc: 0.6960 - val_loss: 0.6410 - val_acc: 0.5928\n",
            "Epoch 3/16\n",
            "70/70 [==============================] - 15s 213ms/step - loss: 0.5356 - acc: 0.7388 - val_loss: 0.6070 - val_acc: 0.6439\n",
            "Epoch 4/16\n",
            "70/70 [==============================] - 15s 214ms/step - loss: 0.5040 - acc: 0.7455 - val_loss: 0.4540 - val_acc: 0.8011\n",
            "Epoch 5/16\n",
            "70/70 [==============================] - 15s 210ms/step - loss: 0.4894 - acc: 0.7612 - val_loss: 0.4275 - val_acc: 0.8106\n",
            "Epoch 6/16\n",
            "70/70 [==============================] - 15s 212ms/step - loss: 0.4742 - acc: 0.7683 - val_loss: 0.4557 - val_acc: 0.7879\n",
            "Epoch 7/16\n",
            "70/70 [==============================] - 15s 211ms/step - loss: 0.4693 - acc: 0.7812 - val_loss: 0.3509 - val_acc: 0.8485\n",
            "Epoch 8/16\n",
            "70/70 [==============================] - 14s 206ms/step - loss: 0.4511 - acc: 0.7821 - val_loss: 0.4351 - val_acc: 0.8068\n",
            "Epoch 9/16\n",
            "70/70 [==============================] - 15s 207ms/step - loss: 0.4462 - acc: 0.7862 - val_loss: 0.4890 - val_acc: 0.7424\n",
            "Epoch 10/16\n",
            "70/70 [==============================] - 15s 209ms/step - loss: 0.4393 - acc: 0.7911 - val_loss: 0.3631 - val_acc: 0.8371\n",
            "Epoch 11/16\n",
            "70/70 [==============================] - 15s 207ms/step - loss: 0.4248 - acc: 0.8027 - val_loss: 0.4657 - val_acc: 0.7784\n",
            "Epoch 12/16\n",
            "70/70 [==============================] - 15s 210ms/step - loss: 0.4233 - acc: 0.8022 - val_loss: 0.3755 - val_acc: 0.8428\n",
            "Epoch 13/16\n",
            "70/70 [==============================] - 15s 209ms/step - loss: 0.4209 - acc: 0.8080 - val_loss: 0.3333 - val_acc: 0.8598\n",
            "Epoch 14/16\n",
            "70/70 [==============================] - 15s 214ms/step - loss: 0.4058 - acc: 0.8170 - val_loss: 0.6418 - val_acc: 0.7424\n",
            "Epoch 15/16\n",
            "70/70 [==============================] - 15s 210ms/step - loss: 0.4066 - acc: 0.8170 - val_loss: 0.3326 - val_acc: 0.8712\n",
            "Epoch 16/16\n",
            "70/70 [==============================] - 14s 205ms/step - loss: 0.4048 - acc: 0.8161 - val_loss: 0.3397 - val_acc: 0.8636\n"
          ],
          "name": "stdout"
        }
      ]
    },
    {
      "metadata": {
        "id": "iRqHM61Mn1u7",
        "colab_type": "code",
        "colab": {}
      },
      "cell_type": "code",
      "source": [
        "model.save_weights('chq_nchq_model_weights_2000_3.h5')\n",
        "model.save('chq_nchq_model_keras_2000_3.h5')"
      ],
      "execution_count": 0,
      "outputs": []
    },
    {
      "metadata": {
        "id": "zkwMVocln5rU",
        "colab_type": "code",
        "outputId": "a73f28f3-ed81-4045-a6f7-8f5c875a2254",
        "colab": {
          "base_uri": "https://localhost:8080/",
          "height": 707
        }
      },
      "cell_type": "code",
      "source": [
        "acc=history.history['acc']\n",
        "val_acc=history.history['val_acc'] \n",
        "loss=history.history['loss']\n",
        "val_loss=history.history['val_loss']\n",
        "\n",
        "epochs=range(1, len(acc)+1)\n",
        "plt.plot(epochs, acc, 'b', label='Training accuracy')\n",
        "plt.plot(epochs, val_acc, 'r', label='Validation accuracy')\n",
        "plt.title('Training and Validation accuracy')\n",
        "plt.legend()\n",
        "\n",
        "plt.figure()\n",
        "plt.plot(epochs, loss, 'b', label='Training loss')\n",
        "plt.plot(epochs, val_loss, 'r', label='Validation loss')\n",
        "plt.title('Training and Validation loss')\n",
        "plt.legend()\n",
        "\n",
        "plt.show()"
      ],
      "execution_count": 0,
      "outputs": [
        {
          "output_type": "display_data",
          "data": {
            "image/png": "[encoded data removed]",
            "text/plain": [
              "<Figure size 576x396 with 1 Axes>"
            ]
          },
          "metadata": {
            "tags": []
          }
        },
        {
          "output_type": "display_data",
          "data": {
            "image/png": "[encoded data removed]",
            "text/plain": [
              "<Figure size 576x396 with 1 Axes>"
            ]
          },
          "metadata": {
            "tags": []
          }
        }
      ]
    },
    {
      "metadata": {
        "id": "xxh0CfYYoCHv",
        "colab_type": "code",
        "colab": {}
      },
      "cell_type": "code",
      "source": [
        "y_pred=model.predict(X_test)\n",
        "label_pred=[]\n",
        "for x in y_pred:\n",
        "    if x>0.5:\n",
        "        label_pred.append('Cheque')\n",
        "    else:\n",
        "        label_pred.append('Not-Cheque')"
      ],
      "execution_count": 0,
      "outputs": []
    },
    {
      "metadata": {
        "id": "EANm10PvoFLX",
        "colab_type": "code",
        "outputId": "e4097c16-8b93-4993-c25c-b815eca00fa1",
        "colab": {
          "base_uri": "https://localhost:8080/",
          "height": 90
        }
      },
      "cell_type": "code",
      "source": [
        "test_datagen = ImageDataGenerator(rescale=1./255)\n",
        "x=X_test\n",
        "columns=2*100 \n",
        "i = 0\n",
        "text_labels = []\n",
        "predl=[]\n",
        "plt.figure(figsize=(30,20))\n",
        "for batch in test_datagen.flow(x, batch_size=1):\n",
        "    pred = model.predict(batch)\n",
        "    predl.append(pred)\n",
        "    if pred > 0.5:\n",
        "        text_labels.append('Cheque')\n",
        "    else:\n",
        "        text_labels.append('Non-Cheque')\n",
        "    plt.subplot(2*100 / columns + 1, columns, i + 1)\n",
        "    plt.title('This is a ' + text_labels[i])\n",
        "    imgplot = plt.imshow(batch[0])\n",
        "    i+=1\n",
        "    if i%200==0:\n",
        "        break;\n",
        "\n",
        "plt.show()"
      ],
      "execution_count": 0,
      "outputs": [
        {
          "output_type": "display_data",
          "data": {
            "image/png": "[encoded data removed]",
            "text/plain": [
              "<Figure size 2160x1440 with 200 Axes>"
            ]
          },
          "metadata": {
            "tags": []
          }
        }
      ]
    },
    {
      "metadata": {
        "id": "OuFF2CcyoI49",
        "colab_type": "code",
        "colab": {}
      },
      "cell_type": "code",
      "source": [
        "ind=[x for x in range(0, 200)]\n",
        "aa=list(zip(ind, label_pred, text_labels))"
      ],
      "execution_count": 0,
      "outputs": []
    },
    {
      "metadata": {
        "id": "zpl8dtuLopl0",
        "colab_type": "code",
        "outputId": "31392419-5b63-47ed-8d80-6c0ce35f5ee2",
        "colab": {
          "base_uri": "https://localhost:8080/",
          "height": 88
        }
      },
      "cell_type": "code",
      "source": [
        "print(aa)\n",
        "print(label_pred)\n",
        "print(text_labels)"
      ],
      "execution_count": 0,
      "outputs": [
        {
          "output_type": "stream",
          "text": [
            "[(0, 'Cheque', 'Non-Cheque'), (1, 'Cheque', 'Non-Cheque'), (2, 'Cheque', 'Non-Cheque'), (3, 'Cheque', 'Cheque'), (4, 'Cheque', 'Cheque'), (5, 'Cheque', 'Cheque'), (6, 'Cheque', 'Non-Cheque'), (7, 'Cheque', 'Cheque'), (8, 'Not-Cheque', 'Non-Cheque'), (9, 'Cheque', 'Cheque'), (10, 'Cheque', 'Cheque'), (11, 'Not-Cheque', 'Non-Cheque'), (12, 'Cheque', 'Cheque'), (13, 'Cheque', 'Cheque'), (14, 'Cheque', 'Cheque'), (15, 'Cheque', 'Cheque'), (16, 'Cheque', 'Cheque'), (17, 'Cheque', 'Cheque'), (18, 'Cheque', 'Non-Cheque'), (19, 'Cheque', 'Non-Cheque'), (20, 'Cheque', 'Cheque'), (21, 'Cheque', 'Cheque'), (22, 'Cheque', 'Cheque'), (23, 'Cheque', 'Non-Cheque'), (24, 'Cheque', 'Non-Cheque'), (25, 'Cheque', 'Cheque'), (26, 'Cheque', 'Cheque'), (27, 'Cheque', 'Cheque'), (28, 'Cheque', 'Cheque'), (29, 'Cheque', 'Cheque'), (30, 'Cheque', 'Non-Cheque'), (31, 'Cheque', 'Cheque'), (32, 'Cheque', 'Non-Cheque'), (33, 'Cheque', 'Non-Cheque'), (34, 'Cheque', 'Cheque'), (35, 'Cheque', 'Cheque'), (36, 'Cheque', 'Cheque'), (37, 'Cheque', 'Cheque'), (38, 'Cheque', 'Non-Cheque'), (39, 'Cheque', 'Cheque'), (40, 'Cheque', 'Cheque'), (41, 'Not-Cheque', 'Non-Cheque'), (42, 'Cheque', 'Non-Cheque'), (43, 'Cheque', 'Cheque'), (44, 'Cheque', 'Non-Cheque'), (45, 'Cheque', 'Non-Cheque'), (46, 'Cheque', 'Cheque'), (47, 'Cheque', 'Cheque'), (48, 'Cheque', 'Cheque'), (49, 'Cheque', 'Cheque'), (50, 'Cheque', 'Non-Cheque'), (51, 'Cheque', 'Cheque'), (52, 'Not-Cheque', 'Non-Cheque'), (53, 'Cheque', 'Cheque'), (54, 'Cheque', 'Cheque'), (55, 'Cheque', 'Cheque'), (56, 'Cheque', 'Cheque'), (57, 'Cheque', 'Non-Cheque'), (58, 'Cheque', 'Cheque'), (59, 'Cheque', 'Cheque'), (60, 'Cheque', 'Cheque'), (61, 'Cheque', 'Non-Cheque'), (62, 'Cheque', 'Non-Cheque'), (63, 'Cheque', 'Cheque'), (64, 'Cheque', 'Non-Cheque'), (65, 'Cheque', 'Non-Cheque'), (66, 'Cheque', 'Cheque'), (67, 'Cheque', 'Non-Cheque'), (68, 'Cheque', 'Non-Cheque'), (69, 'Cheque', 'Non-Cheque'), (70, 'Cheque', 'Cheque'), (71, 'Cheque', 'Non-Cheque'), (72, 'Cheque', 'Non-Cheque'), (73, 'Cheque', 'Non-Cheque'), (74, 'Cheque', 'Cheque'), (75, 'Not-Cheque', 'Cheque'), (76, 'Cheque', 'Non-Cheque'), (77, 'Cheque', 'Cheque'), (78, 'Cheque', 'Non-Cheque'), (79, 'Cheque', 'Cheque'), (80, 'Cheque', 'Non-Cheque'), (81, 'Cheque', 'Cheque'), (82, 'Cheque', 'Non-Cheque'), (83, 'Cheque', 'Cheque'), (84, 'Cheque', 'Non-Cheque'), (85, 'Cheque', 'Cheque'), (86, 'Cheque', 'Cheque'), (87, 'Cheque', 'Non-Cheque'), (88, 'Cheque', 'Cheque'), (89, 'Cheque', 'Non-Cheque'), (90, 'Cheque', 'Cheque'), (91, 'Cheque', 'Cheque'), (92, 'Cheque', 'Non-Cheque'), (93, 'Cheque', 'Non-Cheque'), (94, 'Cheque', 'Cheque'), (95, 'Cheque', 'Cheque'), (96, 'Cheque', 'Cheque'), (97, 'Cheque', 'Cheque'), (98, 'Cheque', 'Cheque'), (99, 'Cheque', 'Cheque'), (100, 'Not-Cheque', 'Non-Cheque'), (101, 'Not-Cheque', 'Cheque'), (102, 'Not-Cheque', 'Cheque'), (103, 'Not-Cheque', 'Cheque'), (104, 'Not-Cheque', 'Cheque'), (105, 'Not-Cheque', 'Non-Cheque'), (106, 'Not-Cheque', 'Cheque'), (107, 'Not-Cheque', 'Cheque'), (108, 'Not-Cheque', 'Cheque'), (109, 'Not-Cheque', 'Non-Cheque'), (110, 'Not-Cheque', 'Cheque'), (111, 'Not-Cheque', 'Non-Cheque'), (112, 'Cheque', 'Non-Cheque'), (113, 'Not-Cheque', 'Cheque'), (114, 'Cheque', 'Cheque'), (115, 'Not-Cheque', 'Cheque'), (116, 'Not-Cheque', 'Cheque'), (117, 'Not-Cheque', 'Cheque'), (118, 'Not-Cheque', 'Non-Cheque'), (119, 'Not-Cheque', 'Cheque'), (120, 'Not-Cheque', 'Cheque'), (121, 'Not-Cheque', 'Cheque'), (122, 'Cheque', 'Cheque'), (123, 'Not-Cheque', 'Cheque'), (124, 'Cheque', 'Non-Cheque'), (125, 'Not-Cheque', 'Non-Cheque'), (126, 'Not-Cheque', 'Cheque'), (127, 'Not-Cheque', 'Non-Cheque'), (128, 'Not-Cheque', 'Non-Cheque'), (129, 'Not-Cheque', 'Cheque'), (130, 'Cheque', 'Cheque'), (131, 'Cheque', 'Non-Cheque'), (132, 'Cheque', 'Cheque'), (133, 'Not-Cheque', 'Cheque'), (134, 'Not-Cheque', 'Cheque'), (135, 'Not-Cheque', 'Non-Cheque'), (136, 'Not-Cheque', 'Non-Cheque'), (137, 'Not-Cheque', 'Non-Cheque'), (138, 'Not-Cheque', 'Non-Cheque'), (139, 'Cheque', 'Cheque'), (140, 'Cheque', 'Non-Cheque'), (141, 'Cheque', 'Cheque'), (142, 'Not-Cheque', 'Cheque'), (143, 'Not-Cheque', 'Cheque'), (144, 'Not-Cheque', 'Non-Cheque'), (145, 'Not-Cheque', 'Non-Cheque'), (146, 'Not-Cheque', 'Cheque'), (147, 'Not-Cheque', 'Cheque'), (148, 'Cheque', 'Non-Cheque'), (149, 'Not-Cheque', 'Cheque'), (150, 'Not-Cheque', 'Cheque'), (151, 'Cheque', 'Cheque'), (152, 'Not-Cheque', 'Non-Cheque'), (153, 'Not-Cheque', 'Cheque'), (154, 'Not-Cheque', 'Non-Cheque'), (155, 'Not-Cheque', 'Non-Cheque'), (156, 'Not-Cheque', 'Non-Cheque'), (157, 'Cheque', 'Non-Cheque'), (158, 'Not-Cheque', 'Cheque'), (159, 'Not-Cheque', 'Non-Cheque'), (160, 'Not-Cheque', 'Cheque'), (161, 'Not-Cheque', 'Cheque'), (162, 'Not-Cheque', 'Cheque'), (163, 'Not-Cheque', 'Cheque'), (164, 'Not-Cheque', 'Non-Cheque'), (165, 'Not-Cheque', 'Non-Cheque'), (166, 'Not-Cheque', 'Non-Cheque'), (167, 'Cheque', 'Cheque'), (168, 'Cheque', 'Cheque'), (169, 'Not-Cheque', 'Cheque'), (170, 'Not-Cheque', 'Non-Cheque'), (171, 'Not-Cheque', 'Non-Cheque'), (172, 'Not-Cheque', 'Cheque'), (173, 'Not-Cheque', 'Non-Cheque'), (174, 'Not-Cheque', 'Non-Cheque'), (175, 'Cheque', 'Cheque'), (176, 'Not-Cheque', 'Cheque'), (177, 'Cheque', 'Non-Cheque'), (178, 'Not-Cheque', 'Cheque'), (179, 'Cheque', 'Non-Cheque'), (180, 'Cheque', 'Cheque'), (181, 'Not-Cheque', 'Cheque'), (182, 'Not-Cheque', 'Cheque'), (183, 'Not-Cheque', 'Cheque'), (184, 'Not-Cheque', 'Cheque'), (185, 'Not-Cheque', 'Cheque'), (186, 'Not-Cheque', 'Non-Cheque'), (187, 'Cheque', 'Non-Cheque'), (188, 'Cheque', 'Cheque'), (189, 'Not-Cheque', 'Cheque'), (190, 'Not-Cheque', 'Cheque'), (191, 'Not-Cheque', 'Cheque'), (192, 'Not-Cheque', 'Cheque'), (193, 'Not-Cheque', 'Non-Cheque'), (194, 'Not-Cheque', 'Cheque'), (195, 'Not-Cheque', 'Non-Cheque'), (196, 'Not-Cheque', 'Non-Cheque'), (197, 'Cheque', 'Non-Cheque'), (198, 'Cheque', 'Cheque'), (199, 'Not-Cheque', 'Non-Cheque')]\n",
            "['Cheque', 'Cheque', 'Cheque', 'Cheque', 'Cheque', 'Cheque', 'Cheque', 'Cheque', 'Not-Cheque', 'Cheque', 'Cheque', 'Not-Cheque', 'Cheque', 'Cheque', 'Cheque', 'Cheque', 'Cheque', 'Cheque', 'Cheque', 'Cheque', 'Cheque', 'Cheque', 'Cheque', 'Cheque', 'Cheque', 'Cheque', 'Cheque', 'Cheque', 'Cheque', 'Cheque', 'Cheque', 'Cheque', 'Cheque', 'Cheque', 'Cheque', 'Cheque', 'Cheque', 'Cheque', 'Cheque', 'Cheque', 'Cheque', 'Not-Cheque', 'Cheque', 'Cheque', 'Cheque', 'Cheque', 'Cheque', 'Cheque', 'Cheque', 'Cheque', 'Cheque', 'Cheque', 'Not-Cheque', 'Cheque', 'Cheque', 'Cheque', 'Cheque', 'Cheque', 'Cheque', 'Cheque', 'Cheque', 'Cheque', 'Cheque', 'Cheque', 'Cheque', 'Cheque', 'Cheque', 'Cheque', 'Cheque', 'Cheque', 'Cheque', 'Cheque', 'Cheque', 'Cheque', 'Cheque', 'Not-Cheque', 'Cheque', 'Cheque', 'Cheque', 'Cheque', 'Cheque', 'Cheque', 'Cheque', 'Cheque', 'Cheque', 'Cheque', 'Cheque', 'Cheque', 'Cheque', 'Cheque', 'Cheque', 'Cheque', 'Cheque', 'Cheque', 'Cheque', 'Cheque', 'Cheque', 'Cheque', 'Cheque', 'Cheque', 'Not-Cheque', 'Not-Cheque', 'Not-Cheque', 'Not-Cheque', 'Not-Cheque', 'Not-Cheque', 'Not-Cheque', 'Not-Cheque', 'Not-Cheque', 'Not-Cheque', 'Not-Cheque', 'Not-Cheque', 'Cheque', 'Not-Cheque', 'Cheque', 'Not-Cheque', 'Not-Cheque', 'Not-Cheque', 'Not-Cheque', 'Not-Cheque', 'Not-Cheque', 'Not-Cheque', 'Cheque', 'Not-Cheque', 'Cheque', 'Not-Cheque', 'Not-Cheque', 'Not-Cheque', 'Not-Cheque', 'Not-Cheque', 'Cheque', 'Cheque', 'Cheque', 'Not-Cheque', 'Not-Cheque', 'Not-Cheque', 'Not-Cheque', 'Not-Cheque', 'Not-Cheque', 'Cheque', 'Cheque', 'Cheque', 'Not-Cheque', 'Not-Cheque', 'Not-Cheque', 'Not-Cheque', 'Not-Cheque', 'Not-Cheque', 'Cheque', 'Not-Cheque', 'Not-Cheque', 'Cheque', 'Not-Cheque', 'Not-Cheque', 'Not-Cheque', 'Not-Cheque', 'Not-Cheque', 'Cheque', 'Not-Cheque', 'Not-Cheque', 'Not-Cheque', 'Not-Cheque', 'Not-Cheque', 'Not-Cheque', 'Not-Cheque', 'Not-Cheque', 'Not-Cheque', 'Cheque', 'Cheque', 'Not-Cheque', 'Not-Cheque', 'Not-Cheque', 'Not-Cheque', 'Not-Cheque', 'Not-Cheque', 'Cheque', 'Not-Cheque', 'Cheque', 'Not-Cheque', 'Cheque', 'Cheque', 'Not-Cheque', 'Not-Cheque', 'Not-Cheque', 'Not-Cheque', 'Not-Cheque', 'Not-Cheque', 'Cheque', 'Cheque', 'Not-Cheque', 'Not-Cheque', 'Not-Cheque', 'Not-Cheque', 'Not-Cheque', 'Not-Cheque', 'Not-Cheque', 'Not-Cheque', 'Cheque', 'Cheque', 'Not-Cheque']\n",
            "['Non-Cheque', 'Non-Cheque', 'Non-Cheque', 'Cheque', 'Cheque', 'Cheque', 'Non-Cheque', 'Cheque', 'Non-Cheque', 'Cheque', 'Cheque', 'Non-Cheque', 'Cheque', 'Cheque', 'Cheque', 'Cheque', 'Cheque', 'Cheque', 'Non-Cheque', 'Non-Cheque', 'Cheque', 'Cheque', 'Cheque', 'Non-Cheque', 'Non-Cheque', 'Cheque', 'Cheque', 'Cheque', 'Cheque', 'Cheque', 'Non-Cheque', 'Cheque', 'Non-Cheque', 'Non-Cheque', 'Cheque', 'Cheque', 'Cheque', 'Cheque', 'Non-Cheque', 'Cheque', 'Cheque', 'Non-Cheque', 'Non-Cheque', 'Cheque', 'Non-Cheque', 'Non-Cheque', 'Cheque', 'Cheque', 'Cheque', 'Cheque', 'Non-Cheque', 'Cheque', 'Non-Cheque', 'Cheque', 'Cheque', 'Cheque', 'Cheque', 'Non-Cheque', 'Cheque', 'Cheque', 'Cheque', 'Non-Cheque', 'Non-Cheque', 'Cheque', 'Non-Cheque', 'Non-Cheque', 'Cheque', 'Non-Cheque', 'Non-Cheque', 'Non-Cheque', 'Cheque', 'Non-Cheque', 'Non-Cheque', 'Non-Cheque', 'Cheque', 'Cheque', 'Non-Cheque', 'Cheque', 'Non-Cheque', 'Cheque', 'Non-Cheque', 'Cheque', 'Non-Cheque', 'Cheque', 'Non-Cheque', 'Cheque', 'Cheque', 'Non-Cheque', 'Cheque', 'Non-Cheque', 'Cheque', 'Cheque', 'Non-Cheque', 'Non-Cheque', 'Cheque', 'Cheque', 'Cheque', 'Cheque', 'Cheque', 'Cheque', 'Non-Cheque', 'Cheque', 'Cheque', 'Cheque', 'Cheque', 'Non-Cheque', 'Cheque', 'Cheque', 'Cheque', 'Non-Cheque', 'Cheque', 'Non-Cheque', 'Non-Cheque', 'Cheque', 'Cheque', 'Cheque', 'Cheque', 'Cheque', 'Non-Cheque', 'Cheque', 'Cheque', 'Cheque', 'Cheque', 'Cheque', 'Non-Cheque', 'Non-Cheque', 'Cheque', 'Non-Cheque', 'Non-Cheque', 'Cheque', 'Cheque', 'Non-Cheque', 'Cheque', 'Cheque', 'Cheque', 'Non-Cheque', 'Non-Cheque', 'Non-Cheque', 'Non-Cheque', 'Cheque', 'Non-Cheque', 'Cheque', 'Cheque', 'Cheque', 'Non-Cheque', 'Non-Cheque', 'Cheque', 'Cheque', 'Non-Cheque', 'Cheque', 'Cheque', 'Cheque', 'Non-Cheque', 'Cheque', 'Non-Cheque', 'Non-Cheque', 'Non-Cheque', 'Non-Cheque', 'Cheque', 'Non-Cheque', 'Cheque', 'Cheque', 'Cheque', 'Cheque', 'Non-Cheque', 'Non-Cheque', 'Non-Cheque', 'Cheque', 'Cheque', 'Cheque', 'Non-Cheque', 'Non-Cheque', 'Cheque', 'Non-Cheque', 'Non-Cheque', 'Cheque', 'Cheque', 'Non-Cheque', 'Cheque', 'Non-Cheque', 'Cheque', 'Cheque', 'Cheque', 'Cheque', 'Cheque', 'Cheque', 'Non-Cheque', 'Non-Cheque', 'Cheque', 'Cheque', 'Cheque', 'Cheque', 'Cheque', 'Non-Cheque', 'Cheque', 'Non-Cheque', 'Non-Cheque', 'Non-Cheque', 'Cheque', 'Non-Cheque']\n"
          ],
          "name": "stdout"
        }
      ]
    }
  ]
}