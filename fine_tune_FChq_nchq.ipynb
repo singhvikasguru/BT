{
  "nbformat": 4,
  "nbformat_minor": 0,
  "metadata": {
    "colab": {
      "name": "fine tune FChq_nchq.ipynb",
      "version": "0.3.2",
      "provenance": [],
      "collapsed_sections": [],
      "include_colab_link": true
    },
    "kernelspec": {
      "name": "python3",
      "display_name": "Python 3"
    },
    "accelerator": "GPU"
  },
  "cells": [
    {
      "cell_type": "markdown",
      "metadata": {
        "id": "view-in-github",
        "colab_type": "text"
      },
      "source": [
        "<a href=\"https://colab.research.google.com/github/singhvikasguru/BT/blob/master/fine_tune_FChq_nchq.ipynb\" target=\"_parent\"><img src=\"https://colab.research.google.com/assets/colab-badge.svg\" alt=\"Open In Colab\"/></a>"
      ]
    },
    {
      "metadata": {
        "id": "CnLJtc1ycfch",
        "colab_type": "code",
        "colab": {}
      },
      "cell_type": "code",
      "source": [
        "!pip install tensorflow==1.12.0\n",
        "import tensorflow as tf\n",
        "print(tf.__version__)"
      ],
      "execution_count": 0,
      "outputs": []
    },
    {
      "metadata": {
        "id": "szGYZXfnjPhP",
        "colab_type": "code",
        "outputId": "ceb16b82-bf0f-47e3-9d86-fe5a658401a5",
        "colab": {
          "base_uri": "https://localhost:8080/",
          "height": 170
        }
      },
      "cell_type": "code",
      "source": [
        "!pip install q keras==2.2.2 "
      ],
      "execution_count": 1,
      "outputs": [
        {
          "output_type": "stream",
          "text": [
            "Requirement already satisfied: q in /usr/local/lib/python3.6/dist-packages (2.6)\n",
            "Requirement already satisfied: keras==2.2.2 in /usr/local/lib/python3.6/dist-packages (2.2.2)\n",
            "Requirement already satisfied: six>=1.9.0 in /usr/local/lib/python3.6/dist-packages (from keras==2.2.2) (1.11.0)\n",
            "Requirement already satisfied: keras-applications==1.0.4 in /usr/local/lib/python3.6/dist-packages (from keras==2.2.2) (1.0.4)\n",
            "Requirement already satisfied: numpy>=1.9.1 in /usr/local/lib/python3.6/dist-packages (from keras==2.2.2) (1.14.6)\n",
            "Requirement already satisfied: pyyaml in /usr/local/lib/python3.6/dist-packages (from keras==2.2.2) (3.13)\n",
            "Requirement already satisfied: keras-preprocessing==1.0.2 in /usr/local/lib/python3.6/dist-packages (from keras==2.2.2) (1.0.2)\n",
            "Requirement already satisfied: h5py in /usr/local/lib/python3.6/dist-packages (from keras==2.2.2) (2.8.0)\n",
            "Requirement already satisfied: scipy>=0.14 in /usr/local/lib/python3.6/dist-packages (from keras==2.2.2) (1.1.0)\n"
          ],
          "name": "stdout"
        }
      ]
    },
    {
      "metadata": {
        "id": "_AHvah7Bmpv1",
        "colab_type": "code",
        "colab": {}
      },
      "cell_type": "code",
      "source": [
        "from google.colab import auth\n",
        "auth.authenticate_user()\n",
        "from oauth2client.client import GoogleCredentials\n",
        "creds = GoogleCredentials.get_application_default()"
      ],
      "execution_count": 0,
      "outputs": []
    },
    {
      "metadata": {
        "id": "S4OgFGlRmIwE",
        "colab_type": "code",
        "colab": {}
      },
      "cell_type": "code",
      "source": [
        "!apt-get install -y -qq software-properties-common python-software-properties module-init-tools\n",
        "!add-apt-repository -y ppa:alessandro-strada/ppa 2>&1 > /dev/null\n",
        "!apt-get update -qq 2>&1 > /dev/null\n",
        "!apt-get -y install -qq google-drive-ocamlfuse fuse"
      ],
      "execution_count": 0,
      "outputs": []
    },
    {
      "metadata": {
        "id": "odUSCRJVmdwm",
        "colab_type": "code",
        "colab": {}
      },
      "cell_type": "code",
      "source": [
        "import getpass\n",
        "!google-drive-ocamlfuse -headless -id={creds.client_id} -secret={creds.client_secret} < /dev/null 2>&1 | grep URL\n",
        "vcode = getpass.getpass()\n",
        "!echo {vcode} | google-drive-ocamlfuse -headless -id={creds.client_id} -secret={creds.client_secret}"
      ],
      "execution_count": 0,
      "outputs": []
    },
    {
      "metadata": {
        "id": "8uLqqpG2nAPw",
        "colab_type": "code",
        "colab": {}
      },
      "cell_type": "code",
      "source": [
        "!mkdir gdrive\n",
        "!google-drive-ocamlfuse gdrive\n",
        "!ls gdrive\n",
        "!cd gdrive"
      ],
      "execution_count": 0,
      "outputs": []
    },
    {
      "metadata": {
        "id": "Nav9PYTlo1gj",
        "colab_type": "code",
        "outputId": "d697ff4a-300d-4689-a773-a46c75f199a6",
        "colab": {
          "base_uri": "https://localhost:8080/",
          "height": 187
        }
      },
      "cell_type": "code",
      "source": [
        "!ls gdrive\n",
        "!cd gdrive\n",
        "!ls gdrive"
      ],
      "execution_count": 4,
      "outputs": [
        {
          "output_type": "stream",
          "text": [
            "10April19.zip\t   dummy225.h5\t    new_model2.h5     non-cheque.zip\n",
            "9April19.zip\t   dummy25.h5\t    new_model3.h5     non_chq_f.zip\n",
            "AI_0_9_Images.zip  dummy.h5\t    new_model.h5\n",
            "cheque.zip\t   fine_model_2.h5  new_non_chq2.zip\n",
            "Data\t\t   fine_model.h5    new_non_chq.zip\n",
            "10April19.zip\t   dummy225.h5\t    new_model2.h5     non-cheque.zip\n",
            "9April19.zip\t   dummy25.h5\t    new_model3.h5     non_chq_f.zip\n",
            "AI_0_9_Images.zip  dummy.h5\t    new_model.h5\n",
            "cheque.zip\t   fine_model_2.h5  new_non_chq2.zip\n",
            "Data\t\t   fine_model.h5    new_non_chq.zip\n"
          ],
          "name": "stdout"
        }
      ]
    },
    {
      "metadata": {
        "id": "M1Vy5jq722nJ",
        "colab_type": "code",
        "colab": {}
      },
      "cell_type": "code",
      "source": [
        "import zipfile\n",
        "a=!unzip gdrive/cheque.zip\n",
        "a2=!unzip gdrive/non-cheque.zip"
      ],
      "execution_count": 0,
      "outputs": []
    },
    {
      "metadata": {
        "id": "jFAfddNngOE5",
        "colab_type": "code",
        "colab": {}
      },
      "cell_type": "code",
      "source": [
        "#a2=!unzip gdrive/non_chq_f.zip"
      ],
      "execution_count": 0,
      "outputs": []
    },
    {
      "metadata": {
        "id": "ZWVYHZztjVP1",
        "colab_type": "code",
        "colab": {}
      },
      "cell_type": "code",
      "source": [
        "a"
      ],
      "execution_count": 0,
      "outputs": []
    },
    {
      "metadata": {
        "id": "1KwWb4smhGL7",
        "colab_type": "code",
        "outputId": "cc2f582f-55e0-4344-ae28-22947e05ad00",
        "colab": {
          "base_uri": "https://localhost:8080/",
          "height": 34
        }
      },
      "cell_type": "code",
      "source": [
        "import cv2\n",
        "import numpy as np\n",
        "import pandas as pd\n",
        "import matplotlib.pyplot as plt\n",
        "import os\n",
        "import random\n",
        "import gc\n",
        "import glob\n",
        "import matplotlib.image as mping\n",
        "import seaborn as sns\n",
        "from sklearn.model_selection import train_test_split\n",
        "\n",
        "#model import\n",
        "from keras import layers\n",
        "from keras import models\n",
        "from keras import optimizers\n",
        "from keras.preprocessing.image import ImageDataGenerator\n",
        "from keras.preprocessing.image import img_to_array, load_img"
      ],
      "execution_count": 6,
      "outputs": [
        {
          "output_type": "stream",
          "text": [
            "Using TensorFlow backend.\n"
          ],
          "name": "stderr"
        }
      ]
    },
    {
      "metadata": {
        "colab_type": "code",
        "id": "5fa9NzmN0qU1",
        "colab": {}
      },
      "cell_type": "code",
      "source": [
        "\n",
        "chq_images=[]\n",
        "for x in a[2:602]:\n",
        "  sp=x.split(':')\n",
        "  sp2=sp[1]\n",
        "  sp2=sp2.strip()\n",
        "  chq_images.append(cv2.imread(sp2))"
      ],
      "execution_count": 0,
      "outputs": []
    },
    {
      "metadata": {
        "id": "k2mMfLjHg6PR",
        "colab_type": "code",
        "colab": {}
      },
      "cell_type": "code",
      "source": [
        "nchq_images=[]\n",
        "for x in a2[2:1800]:\n",
        "  sp=x.split(':')\n",
        "  sp2=sp[1]\n",
        "  sp2=sp2.strip()\n",
        "  nchq_images.append(cv2.imread(sp2))"
      ],
      "execution_count": 0,
      "outputs": []
    },
    {
      "metadata": {
        "id": "RChpTmwpgaz3",
        "colab_type": "code",
        "colab": {}
      },
      "cell_type": "code",
      "source": [
        "\n",
        "fchq_images=chq_images[0:602]\n",
        "#del chq_images\n",
        "#gc.collect()"
      ],
      "execution_count": 0,
      "outputs": []
    },
    {
      "metadata": {
        "id": "5eBqCy3reOy_",
        "colab_type": "code",
        "outputId": "7fd46930-7849-4f0a-bb2c-432beb79ba50",
        "colab": {
          "base_uri": "https://localhost:8080/",
          "height": 51
        }
      },
      "cell_type": "code",
      "source": [
        "print(len(fchq_images))\n",
        "print(len(nchq_images))"
      ],
      "execution_count": 20,
      "outputs": [
        {
          "output_type": "stream",
          "text": [
            "600\n",
            "1798\n"
          ],
          "name": "stdout"
        }
      ]
    },
    {
      "metadata": {
        "id": "18eXyPUelS8n",
        "colab_type": "code",
        "outputId": "accd1dd4-868a-4062-c82b-16bdfec236cc",
        "colab": {
          "base_uri": "https://localhost:8080/",
          "height": 34
        }
      },
      "cell_type": "code",
      "source": [
        "n=500\n",
        "train_images=nchq_images[:(3*n)]+fchq_images[:int(n)]\n",
        "train_labels=[0 for x in range(0, 3*n)]\n",
        "for i in range(0, int(n)):\n",
        "    train_labels.append(1)\n",
        "zip_train=list(zip(train_images, train_labels))\n",
        "random.shuffle(zip_train)\n",
        "train_images, train_labels=zip(*zip_train)\n",
        "\n",
        "test_images=fchq_images[n:(n+100)]+nchq_images[n:(n+100)]\n",
        "\n",
        "del fchq_images\n",
        "del nchq_images\n",
        "gc.collect()"
      ],
      "execution_count": 21,
      "outputs": [
        {
          "output_type": "execute_result",
          "data": {
            "text/plain": [
              "77"
            ]
          },
          "metadata": {
            "tags": []
          },
          "execution_count": 21
        }
      ]
    },
    {
      "metadata": {
        "id": "EIDR5mKLQcFE",
        "colab_type": "code",
        "outputId": "3e94ba8e-e6c6-43d5-c5a5-6bfa923b2ae0",
        "colab": {
          "base_uri": "https://localhost:8080/",
          "height": 34
        }
      },
      "cell_type": "code",
      "source": [
        "len(train_images)"
      ],
      "execution_count": 22,
      "outputs": [
        {
          "output_type": "execute_result",
          "data": {
            "text/plain": [
              "2000"
            ]
          },
          "metadata": {
            "tags": []
          },
          "execution_count": 22
        }
      ]
    },
    {
      "metadata": {
        "id": "wms1t0eWml-G",
        "colab_type": "code",
        "colab": {}
      },
      "cell_type": "code",
      "source": [
        "nrows=150\n",
        "ncols=150\n",
        "channels=1 # 3 if colour image is needed\n",
        "X=[]\n",
        "X_test=[]\n",
        "for img in train_images:\n",
        "    X.append(cv2.resize(img, (nrows, ncols), interpolation=cv2.INTER_CUBIC))\n",
        "for img in test_images:\n",
        "    X_test.append(cv2.resize(img, (nrows, ncols), interpolation=cv2.INTER_CUBIC))\n",
        "Y=train_labels\n",
        "Y=np.asarray(Y)\n",
        "X=np.asarray(X)\n",
        "X_test=np.asarray(X_test)\n",
        "\n",
        "#del train_images\n",
        "#gc.collect()"
      ],
      "execution_count": 0,
      "outputs": []
    },
    {
      "metadata": {
        "id": "YHOlbpoEQpzc",
        "colab_type": "code",
        "outputId": "299d2d76-8eaa-45b4-a979-0330e82f01f2",
        "colab": {
          "base_uri": "https://localhost:8080/",
          "height": 34
        }
      },
      "cell_type": "code",
      "source": [
        "del test_images\n",
        "gc.collect()"
      ],
      "execution_count": 12,
      "outputs": [
        {
          "output_type": "execute_result",
          "data": {
            "text/plain": [
              "0"
            ]
          },
          "metadata": {
            "tags": []
          },
          "execution_count": 12
        }
      ]
    },
    {
      "metadata": {
        "id": "ph5XQ5IUms7M",
        "colab_type": "code",
        "outputId": "19ef30ed-6b72-4e1c-d0eb-67ea05dc79ed",
        "colab": {
          "base_uri": "https://localhost:8080/",
          "height": 413
        }
      },
      "cell_type": "code",
      "source": [
        "sns.countplot(Y)\n",
        "plt.title(\"Labels\")    "
      ],
      "execution_count": 24,
      "outputs": [
        {
          "output_type": "stream",
          "text": [
            "/usr/local/lib/python3.6/dist-packages/seaborn/categorical.py:1428: FutureWarning: remove_na is deprecated and is a private function. Do not use.\n",
            "  stat_data = remove_na(group_data)\n"
          ],
          "name": "stderr"
        },
        {
          "output_type": "execute_result",
          "data": {
            "text/plain": [
              "Text(0.5, 1.0, 'Labels')"
            ]
          },
          "metadata": {
            "tags": []
          },
          "execution_count": 24
        },
        {
          "output_type": "display_data",
          "data": {
            "image/png": "[encoded data removed]",
            "text/plain": [
              "<Figure size 576x396 with 1 Axes>"
            ]
          },
          "metadata": {
            "tags": []
          }
        }
      ]
    },
    {
      "metadata": {
        "id": "BYpA2G_vmv8Y",
        "colab_type": "code",
        "outputId": "ec54dbd4-efe9-4369-866a-4facdca78383",
        "colab": {
          "base_uri": "https://localhost:8080/",
          "height": 34
        }
      },
      "cell_type": "code",
      "source": [
        "X_train, X_val, y_train, y_val=train_test_split(X, Y, test_size=0.2, random_state=2)\n",
        "\n",
        "del X\n",
        "del Y\n",
        "gc.collect()"
      ],
      "execution_count": 25,
      "outputs": [
        {
          "output_type": "execute_result",
          "data": {
            "text/plain": [
              "0"
            ]
          },
          "metadata": {
            "tags": []
          },
          "execution_count": 25
        }
      ]
    },
    {
      "metadata": {
        "id": "joEZz6Y1vwJ_",
        "colab_type": "code",
        "colab": {
          "base_uri": "https://localhost:8080/",
          "height": 122
        },
        "outputId": "44767c89-0060-4748-c226-48d8e6a6060f"
      },
      "cell_type": "code",
      "source": [
        "from keras.applications import InceptionResNetV2\n",
        "\n",
        "conv_base = InceptionResNetV2(weights='imagenet', include_top=False, input_shape=(150,150,3))"
      ],
      "execution_count": 26,
      "outputs": [
        {
          "output_type": "stream",
          "text": [
            "WARNING:tensorflow:From /usr/local/lib/python3.6/dist-packages/tensorflow/python/ops/resource_variable_ops.py:435: colocate_with (from tensorflow.python.framework.ops) is deprecated and will be removed in a future version.\n",
            "Instructions for updating:\n",
            "Colocations handled automatically by placer.\n",
            "Downloading data from https://github.com/fchollet/deep-learning-models/releases/download/v0.7/inception_resnet_v2_weights_tf_dim_ordering_tf_kernels_notop.h5\n",
            "219062272/219055592 [==============================] - 17s 0us/step\n"
          ],
          "name": "stdout"
        }
      ]
    },
    {
      "metadata": {
        "id": "mviJ-FJTv63Z",
        "colab_type": "code",
        "colab": {}
      },
      "cell_type": "code",
      "source": [
        "conv_base.summary()"
      ],
      "execution_count": 0,
      "outputs": []
    },
    {
      "metadata": {
        "id": "qyOFC8miv73j",
        "colab_type": "code",
        "colab": {}
      },
      "cell_type": "code",
      "source": [
        "from keras import layers\n",
        "from keras import models\n",
        "\n",
        "model = models.Sequential()\n",
        "model.add(conv_base)\n",
        "model.add(layers.Flatten())\n",
        "model.add(layers.Dense(256, activation='relu'))\n",
        "model.add(layers.Dense(1, activation='sigmoid'))  #Sigmoid function at the end because we have just two classes"
      ],
      "execution_count": 0,
      "outputs": []
    },
    {
      "metadata": {
        "id": "d440jQE4wAky",
        "colab_type": "code",
        "colab": {}
      },
      "cell_type": "code",
      "source": [
        "model.summary()"
      ],
      "execution_count": 0,
      "outputs": []
    },
    {
      "metadata": {
        "id": "j4QLTT_pwHdA",
        "colab_type": "code",
        "colab": {
          "base_uri": "https://localhost:8080/",
          "height": 197
        },
        "outputId": "a14a2b27-e0f1-4f3d-82ec-2e4c99383875"
      },
      "cell_type": "code",
      "source": [
        "print('Number of trainable weights before freezing the conv base:', len(model.trainable_weights))\n",
        "conv_base.trainable = False\n",
        "print('Number of trainable weights after freezing the conv base:', len(model.trainable_weights))"
      ],
      "execution_count": 28,
      "outputs": [
        {
          "output_type": "error",
          "ename": "NameError",
          "evalue": "ignored",
          "traceback": [
            "\u001b[0;31m---------------------------------------------------------------------------\u001b[0m",
            "\u001b[0;31mNameError\u001b[0m                                 Traceback (most recent call last)",
            "\u001b[0;32m<ipython-input-28-bb16315af23a>\u001b[0m in \u001b[0;36m<module>\u001b[0;34m()\u001b[0m\n\u001b[0;32m----> 1\u001b[0;31m \u001b[0mprint\u001b[0m\u001b[0;34m(\u001b[0m\u001b[0;34m'Number of trainable weights before freezing the conv base:'\u001b[0m\u001b[0;34m,\u001b[0m \u001b[0mlen\u001b[0m\u001b[0;34m(\u001b[0m\u001b[0mmodel\u001b[0m\u001b[0;34m.\u001b[0m\u001b[0mtrainable_weights\u001b[0m\u001b[0;34m)\u001b[0m\u001b[0;34m)\u001b[0m\u001b[0;34m\u001b[0m\u001b[0;34m\u001b[0m\u001b[0m\n\u001b[0m\u001b[1;32m      2\u001b[0m \u001b[0mconv_base\u001b[0m\u001b[0;34m.\u001b[0m\u001b[0mtrainable\u001b[0m \u001b[0;34m=\u001b[0m \u001b[0;32mFalse\u001b[0m\u001b[0;34m\u001b[0m\u001b[0;34m\u001b[0m\u001b[0m\n\u001b[1;32m      3\u001b[0m \u001b[0mprint\u001b[0m\u001b[0;34m(\u001b[0m\u001b[0;34m'Number of trainable weights after freezing the conv base:'\u001b[0m\u001b[0;34m,\u001b[0m \u001b[0mlen\u001b[0m\u001b[0;34m(\u001b[0m\u001b[0mmodel\u001b[0m\u001b[0;34m.\u001b[0m\u001b[0mtrainable_weights\u001b[0m\u001b[0;34m)\u001b[0m\u001b[0;34m)\u001b[0m\u001b[0;34m\u001b[0m\u001b[0;34m\u001b[0m\u001b[0m\n",
            "\u001b[0;31mNameError\u001b[0m: name 'model' is not defined"
          ]
        }
      ]
    },
    {
      "metadata": {
        "id": "EbgSaz8kwL-U",
        "colab_type": "code",
        "colab": {}
      },
      "cell_type": "code",
      "source": [
        "#We'll use the RMSprop optimizer with a learning rate of 0.0001\n",
        "#We'll use binary_crossentropy loss because its a binary classification\n",
        "from keras import optimizers\n",
        "\n",
        "model.compile(loss='binary_crossentropy', optimizer=optimizers.RMSprop(lr=2e-5), metrics=['acc'])"
      ],
      "execution_count": 0,
      "outputs": []
    },
    {
      "metadata": {
        "id": "GdEHK-ZPwRQJ",
        "colab_type": "code",
        "colab": {}
      },
      "cell_type": "code",
      "source": [
        "#Lets create the augmentation configuration\n",
        "#This helps prevent overfitting, since we are using a small dataset\n",
        "from keras.preprocessing.image import ImageDataGenerator\n",
        "from keras.preprocessing.image import img_to_array, load_img\n",
        "\n",
        "train_datagen = ImageDataGenerator(rescale=1./255,   #Scale the image between 0 and 1\n",
        "                                    rotation_range=40,\n",
        "                                    width_shift_range=0.2,\n",
        "                                    height_shift_range=0.2,\n",
        "                                    shear_range=0.2,\n",
        "                                    zoom_range=0.2,\n",
        "                                    horizontal_flip=True,\n",
        "                                    fill_mode='nearest')\n",
        "\n",
        "val_datagen = ImageDataGenerator(rescale=1./255)  #We do not augment validation data. we only perform rescale"
      ],
      "execution_count": 0,
      "outputs": []
    },
    {
      "metadata": {
        "id": "VKm3ufZ_wWXN",
        "colab_type": "code",
        "colab": {}
      },
      "cell_type": "code",
      "source": [
        "train_generator = train_datagen.flow(X_train, y_train,batch_size=batch_size)\n",
        "val_generator = val_datagen.flow(X_val, y_val, batch_size=batch_size)"
      ],
      "execution_count": 0,
      "outputs": []
    },
    {
      "metadata": {
        "id": "VCB7Bf7ywdGv",
        "colab_type": "code",
        "colab": {}
      },
      "cell_type": "code",
      "source": [
        "#The training part\n",
        "#We train for 64 epochs with about 100 steps per epoch\n",
        "history = model.fit_generator(train_generator,\n",
        "                              steps_per_epoch=ntrain // batch_size,\n",
        "                              epochs=20,\n",
        "                              validation_data=val_generator,\n",
        "                              validation_steps=nval // batch_size)\n"
      ],
      "execution_count": 0,
      "outputs": []
    },
    {
      "metadata": {
        "id": "StfnAQ1fm3wA",
        "colab_type": "code",
        "colab": {}
      },
      "cell_type": "code",
      "source": [
        "model=models.Sequential()\n",
        "model.add(layers.Conv2D(32, (3,3), activation='relu', input_shape=(150, 150, 3)))\n",
        "model.add(layers.MaxPooling2D((2,2)))\n",
        "model.add(layers.Conv2D(64, (3,3), activation='relu'))\n",
        "model.add(layers.MaxPooling2D((2,2)))\n",
        "model.add(layers.Conv2D(128, (3,3), activation='relu'))\n",
        "model.add(layers.MaxPooling2D((2,2)))\n",
        "model.add(layers.Conv2D(128, (3,3), activation='relu'))\n",
        "model.add(layers.MaxPooling2D((2,2)))\n",
        "model.add(layers.Flatten())\n",
        "model.add(layers.Dropout(0.5))\n",
        "model.add(layers.Dense(512, activation='relu'))\n",
        "model.add(layers.Dense(1, activation='sigmoid'))\n",
        "\n",
        "model.compile(loss='binary_crossentropy', optimizer=optimizers.RMSprop(lr=1e-4), metrics=['acc'])\n"
      ],
      "execution_count": 0,
      "outputs": []
    },
    {
      "metadata": {
        "id": "4NoQp90tm62h",
        "colab_type": "code",
        "colab": {}
      },
      "cell_type": "code",
      "source": [
        "train_datagen=ImageDataGenerator(rescale=1./255, rotation_range=40, width_shift_range=0.2, height_shift_range=0.2, shear_range=0.2, zoom_range=0.2, horizontal_flip=True)\n",
        "val_datagen=ImageDataGenerator(rescale=1./255)\n",
        "\n",
        "batch_size=32\n",
        "train_genrator=train_datagen.flow(X_train, y_train, batch_size=batch_size)\n",
        "val_genrator=val_datagen.flow(X_val, y_val, batch_size=batch_size)\n",
        "history=model.fit_generator(train_genrator, steps_per_epoch=X_train.shape[0]//batch_size, epochs=40 , validation_data=val_genrator, validation_steps=X_val.shape[0]//batch_size)\n"
      ],
      "execution_count": 0,
      "outputs": []
    },
    {
      "metadata": {
        "id": "FtQahUgDa4AC",
        "colab_type": "code",
        "colab": {}
      },
      "cell_type": "code",
      "source": [
        "history=model.fit_generator(train_genrator, steps_per_epoch=X_train.shape[0]//batch_size, epochs=40 , validation_data=val_genrator, validation_steps=X_val.shape[0]//batch_size)\n"
      ],
      "execution_count": 0,
      "outputs": []
    },
    {
      "metadata": {
        "id": "iRqHM61Mn1u7",
        "colab_type": "code",
        "colab": {}
      },
      "cell_type": "code",
      "source": [
        "#model.save_weights('gdrive/dummy2.h5')\n",
        "model.save('gdrive/fine_model_2.h5')"
      ],
      "execution_count": 0,
      "outputs": []
    },
    {
      "metadata": {
        "id": "zkwMVocln5rU",
        "colab_type": "code",
        "colab": {}
      },
      "cell_type": "code",
      "source": [
        "acc=history.history['acc']\n",
        "val_acc=history.history['val_acc'] \n",
        "loss=history.history['loss']\n",
        "val_loss=history.history['val_loss']\n",
        "\n",
        "epochs=range(1, len(acc)+1)\n",
        "plt.plot(epochs, acc, 'b', label='Training accuracy')\n",
        "plt.plot(epochs, val_acc, 'r', label='Validation accuracy')\n",
        "plt.title('Training and Validation accuracy')\n",
        "plt.legend()\n",
        "\n",
        "plt.figure()\n",
        "plt.plot(epochs, loss, 'b', label='Training loss')\n",
        "plt.plot(epochs, val_loss, 'r', label='Validation loss')\n",
        "plt.title('Training and Validation loss')\n",
        "plt.legend()\n",
        "\n",
        "plt.show()"
      ],
      "execution_count": 0,
      "outputs": []
    },
    {
      "metadata": {
        "id": "H5ct5HicNXI8",
        "colab_type": "code",
        "outputId": "dc2688f3-868c-4f54-efb7-9f6a3d23ac27",
        "colab": {
          "base_uri": "https://localhost:8080/",
          "height": 34
        }
      },
      "cell_type": "code",
      "source": [
        "X_test.shape"
      ],
      "execution_count": 0,
      "outputs": [
        {
          "output_type": "execute_result",
          "data": {
            "text/plain": [
              "(200, 150, 150, 3)"
            ]
          },
          "metadata": {
            "tags": []
          },
          "execution_count": 29
        }
      ]
    },
    {
      "metadata": {
        "id": "xxh0CfYYoCHv",
        "colab_type": "code",
        "colab": {}
      },
      "cell_type": "code",
      "source": [
        "y_pred=model.predict(X_test)\n",
        "label_pred=[]\n",
        "for x in y_pred:\n",
        "    if x>0.01:\n",
        "        label_pred.append('Cheque')\n",
        "    else:\n",
        "        label_pred.append('Not-Cheque')"
      ],
      "execution_count": 0,
      "outputs": []
    },
    {
      "metadata": {
        "id": "WqrF640PCuci",
        "colab_type": "code",
        "colab": {}
      },
      "cell_type": "code",
      "source": [
        "X_test2=X_test/255\n",
        "y_pred2=model.predict(X_test2)\n",
        "label_pred2=[]\n",
        "for x in y_pred2:\n",
        "    if x>0.05:\n",
        "        label_pred2.append('Cheque')\n",
        "    else:\n",
        "        label_pred2.append('Not-Cheque')"
      ],
      "execution_count": 0,
      "outputs": []
    },
    {
      "metadata": {
        "id": "6VOafkVvDHb9",
        "colab_type": "code",
        "colab": {}
      },
      "cell_type": "code",
      "source": [
        "label_pred2"
      ],
      "execution_count": 0,
      "outputs": []
    },
    {
      "metadata": {
        "id": "EANm10PvoFLX",
        "colab_type": "code",
        "colab": {}
      },
      "cell_type": "code",
      "source": [
        "test_datagen = ImageDataGenerator(rescale=1./255)\n",
        "x=X_test\n",
        "columns=2*100 \n",
        "i = 0\n",
        "text_labels = []\n",
        "predl=[]\n",
        "#plt.figure(figsize=(30,20))\n",
        "for batch in test_datagen.flow(x, batch_size=1):\n",
        "    pred = model.predict(batch)\n",
        "    predl.append(pred)\n",
        "    if pred > 0.01:\n",
        "        text_labels.append('Cheque')\n",
        "    else:\n",
        "        text_labels.append('Non-Cheque')\n",
        "    #plt.subplot(2*100 / columns + 1, columns, i + 1)\n",
        "    #plt.title('This is a ' + text_labels[i])\n",
        "    #imgplot = plt.imshow(batch[0])\n",
        "    i+=1\n",
        "    if i%200==0:\n",
        "        break;\n",
        "\n",
        "#plt.show()"
      ],
      "execution_count": 0,
      "outputs": []
    },
    {
      "metadata": {
        "id": "OuFF2CcyoI49",
        "colab_type": "code",
        "colab": {}
      },
      "cell_type": "code",
      "source": [
        "ind=[x for x in range(0, 200)]\n",
        "aa=list(zip(ind, label_pred, text_labels))\n",
        "aa2=list(zip(ind, label_pred))\n",
        "aa3=list(zip(ind, text_labels))\n",
        "aa4=list(zip(ind, label_pred2))"
      ],
      "execution_count": 0,
      "outputs": []
    },
    {
      "metadata": {
        "id": "zpl8dtuLopl0",
        "colab_type": "code",
        "outputId": "cb6226df-0252-4ca5-8868-c432b6731fe2",
        "colab": {
          "base_uri": "https://localhost:8080/",
          "height": 105
        }
      },
      "cell_type": "code",
      "source": [
        "print(aa)\n",
        "print(aa2)\n",
        "print(aa3)\n",
        "print(aa4)"
      ],
      "execution_count": 0,
      "outputs": [
        {
          "output_type": "stream",
          "text": [
            "[(0, 'Not-Cheque', 'Cheque'), (1, 'Not-Cheque', 'Cheque'), (2, 'Not-Cheque', 'Cheque'), (3, 'Not-Cheque', 'Cheque'), (4, 'Not-Cheque', 'Cheque'), (5, 'Not-Cheque', 'Cheque'), (6, 'Not-Cheque', 'Cheque'), (7, 'Not-Cheque', 'Non-Cheque'), (8, 'Not-Cheque', 'Cheque'), (9, 'Not-Cheque', 'Cheque'), (10, 'Not-Cheque', 'Cheque'), (11, 'Not-Cheque', 'Cheque'), (12, 'Not-Cheque', 'Non-Cheque'), (13, 'Not-Cheque', 'Cheque'), (14, 'Not-Cheque', 'Non-Cheque'), (15, 'Not-Cheque', 'Cheque'), (16, 'Not-Cheque', 'Cheque'), (17, 'Not-Cheque', 'Non-Cheque'), (18, 'Not-Cheque', 'Non-Cheque'), (19, 'Not-Cheque', 'Cheque'), (20, 'Not-Cheque', 'Cheque'), (21, 'Not-Cheque', 'Cheque'), (22, 'Not-Cheque', 'Non-Cheque'), (23, 'Not-Cheque', 'Cheque'), (24, 'Not-Cheque', 'Cheque'), (25, 'Not-Cheque', 'Non-Cheque'), (26, 'Not-Cheque', 'Non-Cheque'), (27, 'Not-Cheque', 'Cheque'), (28, 'Not-Cheque', 'Cheque'), (29, 'Not-Cheque', 'Cheque'), (30, 'Not-Cheque', 'Cheque'), (31, 'Not-Cheque', 'Cheque'), (32, 'Not-Cheque', 'Non-Cheque'), (33, 'Not-Cheque', 'Cheque'), (34, 'Not-Cheque', 'Cheque'), (35, 'Not-Cheque', 'Cheque'), (36, 'Not-Cheque', 'Cheque'), (37, 'Not-Cheque', 'Cheque'), (38, 'Not-Cheque', 'Non-Cheque'), (39, 'Not-Cheque', 'Cheque'), (40, 'Not-Cheque', 'Cheque'), (41, 'Not-Cheque', 'Cheque'), (42, 'Not-Cheque', 'Cheque'), (43, 'Not-Cheque', 'Cheque'), (44, 'Not-Cheque', 'Cheque'), (45, 'Not-Cheque', 'Cheque'), (46, 'Not-Cheque', 'Cheque'), (47, 'Not-Cheque', 'Cheque'), (48, 'Not-Cheque', 'Cheque'), (49, 'Not-Cheque', 'Cheque'), (50, 'Not-Cheque', 'Cheque'), (51, 'Not-Cheque', 'Cheque'), (52, 'Not-Cheque', 'Cheque'), (53, 'Not-Cheque', 'Cheque'), (54, 'Not-Cheque', 'Cheque'), (55, 'Not-Cheque', 'Cheque'), (56, 'Not-Cheque', 'Cheque'), (57, 'Not-Cheque', 'Non-Cheque'), (58, 'Not-Cheque', 'Cheque'), (59, 'Not-Cheque', 'Non-Cheque'), (60, 'Not-Cheque', 'Cheque'), (61, 'Not-Cheque', 'Cheque'), (62, 'Not-Cheque', 'Cheque'), (63, 'Not-Cheque', 'Cheque'), (64, 'Not-Cheque', 'Cheque'), (65, 'Not-Cheque', 'Non-Cheque'), (66, 'Not-Cheque', 'Cheque'), (67, 'Not-Cheque', 'Cheque'), (68, 'Not-Cheque', 'Non-Cheque'), (69, 'Not-Cheque', 'Cheque'), (70, 'Not-Cheque', 'Cheque'), (71, 'Not-Cheque', 'Non-Cheque'), (72, 'Not-Cheque', 'Cheque'), (73, 'Not-Cheque', 'Non-Cheque'), (74, 'Not-Cheque', 'Cheque'), (75, 'Not-Cheque', 'Cheque'), (76, 'Not-Cheque', 'Cheque'), (77, 'Not-Cheque', 'Cheque'), (78, 'Not-Cheque', 'Cheque'), (79, 'Not-Cheque', 'Cheque'), (80, 'Not-Cheque', 'Cheque'), (81, 'Not-Cheque', 'Cheque'), (82, 'Not-Cheque', 'Cheque'), (83, 'Not-Cheque', 'Non-Cheque'), (84, 'Not-Cheque', 'Cheque'), (85, 'Not-Cheque', 'Non-Cheque'), (86, 'Not-Cheque', 'Cheque'), (87, 'Not-Cheque', 'Non-Cheque'), (88, 'Not-Cheque', 'Non-Cheque'), (89, 'Not-Cheque', 'Cheque'), (90, 'Not-Cheque', 'Non-Cheque'), (91, 'Not-Cheque', 'Cheque'), (92, 'Not-Cheque', 'Cheque'), (93, 'Not-Cheque', 'Cheque'), (94, 'Not-Cheque', 'Cheque'), (95, 'Not-Cheque', 'Cheque'), (96, 'Not-Cheque', 'Cheque'), (97, 'Not-Cheque', 'Cheque'), (98, 'Not-Cheque', 'Cheque'), (99, 'Not-Cheque', 'Cheque'), (100, 'Not-Cheque', 'Non-Cheque'), (101, 'Not-Cheque', 'Cheque'), (102, 'Not-Cheque', 'Cheque'), (103, 'Not-Cheque', 'Cheque'), (104, 'Not-Cheque', 'Non-Cheque'), (105, 'Not-Cheque', 'Cheque'), (106, 'Not-Cheque', 'Non-Cheque'), (107, 'Not-Cheque', 'Non-Cheque'), (108, 'Not-Cheque', 'Cheque'), (109, 'Not-Cheque', 'Non-Cheque'), (110, 'Not-Cheque', 'Non-Cheque'), (111, 'Not-Cheque', 'Cheque'), (112, 'Not-Cheque', 'Cheque'), (113, 'Not-Cheque', 'Cheque'), (114, 'Not-Cheque', 'Cheque'), (115, 'Not-Cheque', 'Non-Cheque'), (116, 'Not-Cheque', 'Non-Cheque'), (117, 'Not-Cheque', 'Cheque'), (118, 'Not-Cheque', 'Cheque'), (119, 'Not-Cheque', 'Cheque'), (120, 'Not-Cheque', 'Cheque'), (121, 'Not-Cheque', 'Non-Cheque'), (122, 'Not-Cheque', 'Cheque'), (123, 'Not-Cheque', 'Cheque'), (124, 'Not-Cheque', 'Cheque'), (125, 'Not-Cheque', 'Non-Cheque'), (126, 'Not-Cheque', 'Cheque'), (127, 'Not-Cheque', 'Non-Cheque'), (128, 'Not-Cheque', 'Non-Cheque'), (129, 'Not-Cheque', 'Non-Cheque'), (130, 'Not-Cheque', 'Cheque'), (131, 'Not-Cheque', 'Non-Cheque'), (132, 'Not-Cheque', 'Non-Cheque'), (133, 'Not-Cheque', 'Cheque'), (134, 'Not-Cheque', 'Cheque'), (135, 'Not-Cheque', 'Cheque'), (136, 'Not-Cheque', 'Cheque'), (137, 'Not-Cheque', 'Cheque'), (138, 'Not-Cheque', 'Cheque'), (139, 'Not-Cheque', 'Non-Cheque'), (140, 'Not-Cheque', 'Non-Cheque'), (141, 'Not-Cheque', 'Non-Cheque'), (142, 'Not-Cheque', 'Cheque'), (143, 'Not-Cheque', 'Non-Cheque'), (144, 'Not-Cheque', 'Cheque'), (145, 'Not-Cheque', 'Cheque'), (146, 'Not-Cheque', 'Cheque'), (147, 'Not-Cheque', 'Non-Cheque'), (148, 'Not-Cheque', 'Cheque'), (149, 'Not-Cheque', 'Non-Cheque'), (150, 'Not-Cheque', 'Cheque'), (151, 'Not-Cheque', 'Non-Cheque'), (152, 'Not-Cheque', 'Non-Cheque'), (153, 'Not-Cheque', 'Cheque'), (154, 'Not-Cheque', 'Cheque'), (155, 'Not-Cheque', 'Cheque'), (156, 'Not-Cheque', 'Non-Cheque'), (157, 'Not-Cheque', 'Cheque'), (158, 'Not-Cheque', 'Cheque'), (159, 'Not-Cheque', 'Cheque'), (160, 'Not-Cheque', 'Cheque'), (161, 'Not-Cheque', 'Cheque'), (162, 'Not-Cheque', 'Non-Cheque'), (163, 'Not-Cheque', 'Cheque'), (164, 'Not-Cheque', 'Cheque'), (165, 'Not-Cheque', 'Cheque'), (166, 'Not-Cheque', 'Non-Cheque'), (167, 'Not-Cheque', 'Cheque'), (168, 'Not-Cheque', 'Cheque'), (169, 'Not-Cheque', 'Cheque'), (170, 'Not-Cheque', 'Cheque'), (171, 'Not-Cheque', 'Cheque'), (172, 'Not-Cheque', 'Cheque'), (173, 'Not-Cheque', 'Cheque'), (174, 'Not-Cheque', 'Cheque'), (175, 'Not-Cheque', 'Cheque'), (176, 'Not-Cheque', 'Cheque'), (177, 'Not-Cheque', 'Cheque'), (178, 'Not-Cheque', 'Cheque'), (179, 'Not-Cheque', 'Non-Cheque'), (180, 'Not-Cheque', 'Cheque'), (181, 'Not-Cheque', 'Non-Cheque'), (182, 'Not-Cheque', 'Cheque'), (183, 'Not-Cheque', 'Cheque'), (184, 'Not-Cheque', 'Cheque'), (185, 'Not-Cheque', 'Cheque'), (186, 'Not-Cheque', 'Non-Cheque'), (187, 'Not-Cheque', 'Cheque'), (188, 'Not-Cheque', 'Non-Cheque'), (189, 'Not-Cheque', 'Cheque'), (190, 'Not-Cheque', 'Non-Cheque'), (191, 'Not-Cheque', 'Cheque'), (192, 'Not-Cheque', 'Cheque'), (193, 'Not-Cheque', 'Cheque'), (194, 'Not-Cheque', 'Cheque'), (195, 'Not-Cheque', 'Cheque'), (196, 'Not-Cheque', 'Non-Cheque'), (197, 'Not-Cheque', 'Non-Cheque'), (198, 'Not-Cheque', 'Non-Cheque'), (199, 'Not-Cheque', 'Cheque')]\n",
            "[(0, 'Not-Cheque'), (1, 'Not-Cheque'), (2, 'Not-Cheque'), (3, 'Not-Cheque'), (4, 'Not-Cheque'), (5, 'Not-Cheque'), (6, 'Not-Cheque'), (7, 'Not-Cheque'), (8, 'Not-Cheque'), (9, 'Not-Cheque'), (10, 'Not-Cheque'), (11, 'Not-Cheque'), (12, 'Not-Cheque'), (13, 'Not-Cheque'), (14, 'Not-Cheque'), (15, 'Not-Cheque'), (16, 'Not-Cheque'), (17, 'Not-Cheque'), (18, 'Not-Cheque'), (19, 'Not-Cheque'), (20, 'Not-Cheque'), (21, 'Not-Cheque'), (22, 'Not-Cheque'), (23, 'Not-Cheque'), (24, 'Not-Cheque'), (25, 'Not-Cheque'), (26, 'Not-Cheque'), (27, 'Not-Cheque'), (28, 'Not-Cheque'), (29, 'Not-Cheque'), (30, 'Not-Cheque'), (31, 'Not-Cheque'), (32, 'Not-Cheque'), (33, 'Not-Cheque'), (34, 'Not-Cheque'), (35, 'Not-Cheque'), (36, 'Not-Cheque'), (37, 'Not-Cheque'), (38, 'Not-Cheque'), (39, 'Not-Cheque'), (40, 'Not-Cheque'), (41, 'Not-Cheque'), (42, 'Not-Cheque'), (43, 'Not-Cheque'), (44, 'Not-Cheque'), (45, 'Not-Cheque'), (46, 'Not-Cheque'), (47, 'Not-Cheque'), (48, 'Not-Cheque'), (49, 'Not-Cheque'), (50, 'Not-Cheque'), (51, 'Not-Cheque'), (52, 'Not-Cheque'), (53, 'Not-Cheque'), (54, 'Not-Cheque'), (55, 'Not-Cheque'), (56, 'Not-Cheque'), (57, 'Not-Cheque'), (58, 'Not-Cheque'), (59, 'Not-Cheque'), (60, 'Not-Cheque'), (61, 'Not-Cheque'), (62, 'Not-Cheque'), (63, 'Not-Cheque'), (64, 'Not-Cheque'), (65, 'Not-Cheque'), (66, 'Not-Cheque'), (67, 'Not-Cheque'), (68, 'Not-Cheque'), (69, 'Not-Cheque'), (70, 'Not-Cheque'), (71, 'Not-Cheque'), (72, 'Not-Cheque'), (73, 'Not-Cheque'), (74, 'Not-Cheque'), (75, 'Not-Cheque'), (76, 'Not-Cheque'), (77, 'Not-Cheque'), (78, 'Not-Cheque'), (79, 'Not-Cheque'), (80, 'Not-Cheque'), (81, 'Not-Cheque'), (82, 'Not-Cheque'), (83, 'Not-Cheque'), (84, 'Not-Cheque'), (85, 'Not-Cheque'), (86, 'Not-Cheque'), (87, 'Not-Cheque'), (88, 'Not-Cheque'), (89, 'Not-Cheque'), (90, 'Not-Cheque'), (91, 'Not-Cheque'), (92, 'Not-Cheque'), (93, 'Not-Cheque'), (94, 'Not-Cheque'), (95, 'Not-Cheque'), (96, 'Not-Cheque'), (97, 'Not-Cheque'), (98, 'Not-Cheque'), (99, 'Not-Cheque'), (100, 'Not-Cheque'), (101, 'Not-Cheque'), (102, 'Not-Cheque'), (103, 'Not-Cheque'), (104, 'Not-Cheque'), (105, 'Not-Cheque'), (106, 'Not-Cheque'), (107, 'Not-Cheque'), (108, 'Not-Cheque'), (109, 'Not-Cheque'), (110, 'Not-Cheque'), (111, 'Not-Cheque'), (112, 'Not-Cheque'), (113, 'Not-Cheque'), (114, 'Not-Cheque'), (115, 'Not-Cheque'), (116, 'Not-Cheque'), (117, 'Not-Cheque'), (118, 'Not-Cheque'), (119, 'Not-Cheque'), (120, 'Not-Cheque'), (121, 'Not-Cheque'), (122, 'Not-Cheque'), (123, 'Not-Cheque'), (124, 'Not-Cheque'), (125, 'Not-Cheque'), (126, 'Not-Cheque'), (127, 'Not-Cheque'), (128, 'Not-Cheque'), (129, 'Not-Cheque'), (130, 'Not-Cheque'), (131, 'Not-Cheque'), (132, 'Not-Cheque'), (133, 'Not-Cheque'), (134, 'Not-Cheque'), (135, 'Not-Cheque'), (136, 'Not-Cheque'), (137, 'Not-Cheque'), (138, 'Not-Cheque'), (139, 'Not-Cheque'), (140, 'Not-Cheque'), (141, 'Not-Cheque'), (142, 'Not-Cheque'), (143, 'Not-Cheque'), (144, 'Not-Cheque'), (145, 'Not-Cheque'), (146, 'Not-Cheque'), (147, 'Not-Cheque'), (148, 'Not-Cheque'), (149, 'Not-Cheque'), (150, 'Not-Cheque'), (151, 'Not-Cheque'), (152, 'Not-Cheque'), (153, 'Not-Cheque'), (154, 'Not-Cheque'), (155, 'Not-Cheque'), (156, 'Not-Cheque'), (157, 'Not-Cheque'), (158, 'Not-Cheque'), (159, 'Not-Cheque'), (160, 'Not-Cheque'), (161, 'Not-Cheque'), (162, 'Not-Cheque'), (163, 'Not-Cheque'), (164, 'Not-Cheque'), (165, 'Not-Cheque'), (166, 'Not-Cheque'), (167, 'Not-Cheque'), (168, 'Not-Cheque'), (169, 'Not-Cheque'), (170, 'Not-Cheque'), (171, 'Not-Cheque'), (172, 'Not-Cheque'), (173, 'Not-Cheque'), (174, 'Not-Cheque'), (175, 'Not-Cheque'), (176, 'Not-Cheque'), (177, 'Not-Cheque'), (178, 'Not-Cheque'), (179, 'Not-Cheque'), (180, 'Not-Cheque'), (181, 'Not-Cheque'), (182, 'Not-Cheque'), (183, 'Not-Cheque'), (184, 'Not-Cheque'), (185, 'Not-Cheque'), (186, 'Not-Cheque'), (187, 'Not-Cheque'), (188, 'Not-Cheque'), (189, 'Not-Cheque'), (190, 'Not-Cheque'), (191, 'Not-Cheque'), (192, 'Not-Cheque'), (193, 'Not-Cheque'), (194, 'Not-Cheque'), (195, 'Not-Cheque'), (196, 'Not-Cheque'), (197, 'Not-Cheque'), (198, 'Not-Cheque'), (199, 'Not-Cheque')]\n",
            "[(0, 'Cheque'), (1, 'Cheque'), (2, 'Cheque'), (3, 'Cheque'), (4, 'Cheque'), (5, 'Cheque'), (6, 'Cheque'), (7, 'Non-Cheque'), (8, 'Cheque'), (9, 'Cheque'), (10, 'Cheque'), (11, 'Cheque'), (12, 'Non-Cheque'), (13, 'Cheque'), (14, 'Non-Cheque'), (15, 'Cheque'), (16, 'Cheque'), (17, 'Non-Cheque'), (18, 'Non-Cheque'), (19, 'Cheque'), (20, 'Cheque'), (21, 'Cheque'), (22, 'Non-Cheque'), (23, 'Cheque'), (24, 'Cheque'), (25, 'Non-Cheque'), (26, 'Non-Cheque'), (27, 'Cheque'), (28, 'Cheque'), (29, 'Cheque'), (30, 'Cheque'), (31, 'Cheque'), (32, 'Non-Cheque'), (33, 'Cheque'), (34, 'Cheque'), (35, 'Cheque'), (36, 'Cheque'), (37, 'Cheque'), (38, 'Non-Cheque'), (39, 'Cheque'), (40, 'Cheque'), (41, 'Cheque'), (42, 'Cheque'), (43, 'Cheque'), (44, 'Cheque'), (45, 'Cheque'), (46, 'Cheque'), (47, 'Cheque'), (48, 'Cheque'), (49, 'Cheque'), (50, 'Cheque'), (51, 'Cheque'), (52, 'Cheque'), (53, 'Cheque'), (54, 'Cheque'), (55, 'Cheque'), (56, 'Cheque'), (57, 'Non-Cheque'), (58, 'Cheque'), (59, 'Non-Cheque'), (60, 'Cheque'), (61, 'Cheque'), (62, 'Cheque'), (63, 'Cheque'), (64, 'Cheque'), (65, 'Non-Cheque'), (66, 'Cheque'), (67, 'Cheque'), (68, 'Non-Cheque'), (69, 'Cheque'), (70, 'Cheque'), (71, 'Non-Cheque'), (72, 'Cheque'), (73, 'Non-Cheque'), (74, 'Cheque'), (75, 'Cheque'), (76, 'Cheque'), (77, 'Cheque'), (78, 'Cheque'), (79, 'Cheque'), (80, 'Cheque'), (81, 'Cheque'), (82, 'Cheque'), (83, 'Non-Cheque'), (84, 'Cheque'), (85, 'Non-Cheque'), (86, 'Cheque'), (87, 'Non-Cheque'), (88, 'Non-Cheque'), (89, 'Cheque'), (90, 'Non-Cheque'), (91, 'Cheque'), (92, 'Cheque'), (93, 'Cheque'), (94, 'Cheque'), (95, 'Cheque'), (96, 'Cheque'), (97, 'Cheque'), (98, 'Cheque'), (99, 'Cheque'), (100, 'Non-Cheque'), (101, 'Cheque'), (102, 'Cheque'), (103, 'Cheque'), (104, 'Non-Cheque'), (105, 'Cheque'), (106, 'Non-Cheque'), (107, 'Non-Cheque'), (108, 'Cheque'), (109, 'Non-Cheque'), (110, 'Non-Cheque'), (111, 'Cheque'), (112, 'Cheque'), (113, 'Cheque'), (114, 'Cheque'), (115, 'Non-Cheque'), (116, 'Non-Cheque'), (117, 'Cheque'), (118, 'Cheque'), (119, 'Cheque'), (120, 'Cheque'), (121, 'Non-Cheque'), (122, 'Cheque'), (123, 'Cheque'), (124, 'Cheque'), (125, 'Non-Cheque'), (126, 'Cheque'), (127, 'Non-Cheque'), (128, 'Non-Cheque'), (129, 'Non-Cheque'), (130, 'Cheque'), (131, 'Non-Cheque'), (132, 'Non-Cheque'), (133, 'Cheque'), (134, 'Cheque'), (135, 'Cheque'), (136, 'Cheque'), (137, 'Cheque'), (138, 'Cheque'), (139, 'Non-Cheque'), (140, 'Non-Cheque'), (141, 'Non-Cheque'), (142, 'Cheque'), (143, 'Non-Cheque'), (144, 'Cheque'), (145, 'Cheque'), (146, 'Cheque'), (147, 'Non-Cheque'), (148, 'Cheque'), (149, 'Non-Cheque'), (150, 'Cheque'), (151, 'Non-Cheque'), (152, 'Non-Cheque'), (153, 'Cheque'), (154, 'Cheque'), (155, 'Cheque'), (156, 'Non-Cheque'), (157, 'Cheque'), (158, 'Cheque'), (159, 'Cheque'), (160, 'Cheque'), (161, 'Cheque'), (162, 'Non-Cheque'), (163, 'Cheque'), (164, 'Cheque'), (165, 'Cheque'), (166, 'Non-Cheque'), (167, 'Cheque'), (168, 'Cheque'), (169, 'Cheque'), (170, 'Cheque'), (171, 'Cheque'), (172, 'Cheque'), (173, 'Cheque'), (174, 'Cheque'), (175, 'Cheque'), (176, 'Cheque'), (177, 'Cheque'), (178, 'Cheque'), (179, 'Non-Cheque'), (180, 'Cheque'), (181, 'Non-Cheque'), (182, 'Cheque'), (183, 'Cheque'), (184, 'Cheque'), (185, 'Cheque'), (186, 'Non-Cheque'), (187, 'Cheque'), (188, 'Non-Cheque'), (189, 'Cheque'), (190, 'Non-Cheque'), (191, 'Cheque'), (192, 'Cheque'), (193, 'Cheque'), (194, 'Cheque'), (195, 'Cheque'), (196, 'Non-Cheque'), (197, 'Non-Cheque'), (198, 'Non-Cheque'), (199, 'Cheque')]\n",
            "[(0, 'Cheque'), (1, 'Cheque'), (2, 'Cheque'), (3, 'Cheque'), (4, 'Not-Cheque'), (5, 'Cheque'), (6, 'Cheque'), (7, 'Cheque'), (8, 'Cheque'), (9, 'Cheque'), (10, 'Cheque'), (11, 'Cheque'), (12, 'Cheque'), (13, 'Cheque'), (14, 'Cheque'), (15, 'Cheque'), (16, 'Cheque'), (17, 'Not-Cheque'), (18, 'Cheque'), (19, 'Cheque'), (20, 'Cheque'), (21, 'Cheque'), (22, 'Not-Cheque'), (23, 'Cheque'), (24, 'Cheque'), (25, 'Cheque'), (26, 'Cheque'), (27, 'Cheque'), (28, 'Not-Cheque'), (29, 'Not-Cheque'), (30, 'Not-Cheque'), (31, 'Cheque'), (32, 'Cheque'), (33, 'Cheque'), (34, 'Not-Cheque'), (35, 'Not-Cheque'), (36, 'Cheque'), (37, 'Cheque'), (38, 'Cheque'), (39, 'Cheque'), (40, 'Cheque'), (41, 'Cheque'), (42, 'Cheque'), (43, 'Cheque'), (44, 'Cheque'), (45, 'Cheque'), (46, 'Cheque'), (47, 'Not-Cheque'), (48, 'Not-Cheque'), (49, 'Cheque'), (50, 'Cheque'), (51, 'Cheque'), (52, 'Cheque'), (53, 'Cheque'), (54, 'Not-Cheque'), (55, 'Cheque'), (56, 'Cheque'), (57, 'Cheque'), (58, 'Cheque'), (59, 'Cheque'), (60, 'Cheque'), (61, 'Cheque'), (62, 'Not-Cheque'), (63, 'Cheque'), (64, 'Cheque'), (65, 'Cheque'), (66, 'Cheque'), (67, 'Cheque'), (68, 'Cheque'), (69, 'Cheque'), (70, 'Cheque'), (71, 'Not-Cheque'), (72, 'Not-Cheque'), (73, 'Cheque'), (74, 'Cheque'), (75, 'Cheque'), (76, 'Not-Cheque'), (77, 'Cheque'), (78, 'Cheque'), (79, 'Not-Cheque'), (80, 'Cheque'), (81, 'Cheque'), (82, 'Not-Cheque'), (83, 'Cheque'), (84, 'Cheque'), (85, 'Cheque'), (86, 'Not-Cheque'), (87, 'Cheque'), (88, 'Cheque'), (89, 'Cheque'), (90, 'Not-Cheque'), (91, 'Cheque'), (92, 'Cheque'), (93, 'Not-Cheque'), (94, 'Not-Cheque'), (95, 'Cheque'), (96, 'Cheque'), (97, 'Cheque'), (98, 'Cheque'), (99, 'Cheque'), (100, 'Not-Cheque'), (101, 'Cheque'), (102, 'Not-Cheque'), (103, 'Not-Cheque'), (104, 'Cheque'), (105, 'Not-Cheque'), (106, 'Not-Cheque'), (107, 'Not-Cheque'), (108, 'Not-Cheque'), (109, 'Not-Cheque'), (110, 'Not-Cheque'), (111, 'Cheque'), (112, 'Not-Cheque'), (113, 'Not-Cheque'), (114, 'Not-Cheque'), (115, 'Not-Cheque'), (116, 'Not-Cheque'), (117, 'Cheque'), (118, 'Not-Cheque'), (119, 'Not-Cheque'), (120, 'Not-Cheque'), (121, 'Not-Cheque'), (122, 'Not-Cheque'), (123, 'Not-Cheque'), (124, 'Not-Cheque'), (125, 'Cheque'), (126, 'Not-Cheque'), (127, 'Cheque'), (128, 'Not-Cheque'), (129, 'Not-Cheque'), (130, 'Not-Cheque'), (131, 'Not-Cheque'), (132, 'Not-Cheque'), (133, 'Not-Cheque'), (134, 'Not-Cheque'), (135, 'Not-Cheque'), (136, 'Not-Cheque'), (137, 'Not-Cheque'), (138, 'Not-Cheque'), (139, 'Cheque'), (140, 'Not-Cheque'), (141, 'Not-Cheque'), (142, 'Not-Cheque'), (143, 'Not-Cheque'), (144, 'Not-Cheque'), (145, 'Not-Cheque'), (146, 'Not-Cheque'), (147, 'Not-Cheque'), (148, 'Not-Cheque'), (149, 'Not-Cheque'), (150, 'Not-Cheque'), (151, 'Not-Cheque'), (152, 'Not-Cheque'), (153, 'Not-Cheque'), (154, 'Not-Cheque'), (155, 'Not-Cheque'), (156, 'Not-Cheque'), (157, 'Not-Cheque'), (158, 'Not-Cheque'), (159, 'Not-Cheque'), (160, 'Not-Cheque'), (161, 'Not-Cheque'), (162, 'Not-Cheque'), (163, 'Not-Cheque'), (164, 'Not-Cheque'), (165, 'Not-Cheque'), (166, 'Cheque'), (167, 'Not-Cheque'), (168, 'Not-Cheque'), (169, 'Cheque'), (170, 'Cheque'), (171, 'Not-Cheque'), (172, 'Not-Cheque'), (173, 'Not-Cheque'), (174, 'Not-Cheque'), (175, 'Not-Cheque'), (176, 'Not-Cheque'), (177, 'Not-Cheque'), (178, 'Not-Cheque'), (179, 'Cheque'), (180, 'Not-Cheque'), (181, 'Not-Cheque'), (182, 'Not-Cheque'), (183, 'Not-Cheque'), (184, 'Cheque'), (185, 'Not-Cheque'), (186, 'Not-Cheque'), (187, 'Not-Cheque'), (188, 'Not-Cheque'), (189, 'Not-Cheque'), (190, 'Not-Cheque'), (191, 'Not-Cheque'), (192, 'Not-Cheque'), (193, 'Not-Cheque'), (194, 'Not-Cheque'), (195, 'Not-Cheque'), (196, 'Not-Cheque'), (197, 'Not-Cheque'), (198, 'Not-Cheque'), (199, 'Not-Cheque')]\n"
          ],
          "name": "stdout"
        }
      ]
    },
    {
      "metadata": {
        "id": "atawNRexgKuU",
        "colab_type": "text"
      },
      "cell_type": "markdown",
      "source": [
        ""
      ]
    },
    {
      "metadata": {
        "id": "8YdVsLEdgChr",
        "colab_type": "text"
      },
      "cell_type": "markdown",
      "source": [
        ""
      ]
    },
    {
      "metadata": {
        "id": "JMPuNJz3FrAN",
        "colab_type": "code",
        "colab": {}
      },
      "cell_type": "code",
      "source": [
        "print(np.asarray(text_labels))"
      ],
      "execution_count": 0,
      "outputs": []
    },
    {
      "metadata": {
        "id": "sUbIJkB4CR-h",
        "colab_type": "text"
      },
      "cell_type": "markdown",
      "source": [
        ""
      ]
    },
    {
      "metadata": {
        "id": "dIJsdTz_-l5F",
        "colab_type": "code",
        "outputId": "4895bc00-23df-451c-827b-db803519c623",
        "colab": {
          "base_uri": "https://localhost:8080/",
          "height": 51
        }
      },
      "cell_type": "code",
      "source": [
        "test_labels=[1 for x in range(0,100)]\n",
        "for x in range(0, 100):\n",
        "  test_labels.append(0)\n",
        "loss,acc = model.evaluate(X_test, test_labels)\n",
        "print(loss, acc)"
      ],
      "execution_count": 0,
      "outputs": [
        {
          "output_type": "stream",
          "text": [
            "200/200 [==============================] - 0s 933us/step\n",
            "8.059047734974616 0.5\n"
          ],
          "name": "stdout"
        }
      ]
    },
    {
      "metadata": {
        "id": "c-5wuYawDDhP",
        "colab_type": "code",
        "outputId": "8f21593a-fe69-4e25-fa11-e30c9e77da70",
        "colab": {
          "base_uri": "https://localhost:8080/",
          "height": 34
        }
      },
      "cell_type": "code",
      "source": [
        "del X_train\n",
        "del X_val\n",
        "del y_train\n",
        "del y_val\n",
        "gc.collect()"
      ],
      "execution_count": 0,
      "outputs": [
        {
          "output_type": "execute_result",
          "data": {
            "text/plain": [
              "5366"
            ]
          },
          "metadata": {
            "tags": []
          },
          "execution_count": 26
        }
      ]
    },
    {
      "metadata": {
        "id": "sITpbtT3DTfI",
        "colab_type": "code",
        "outputId": "cfdf7951-15b1-4a3d-fc4e-7684b9251a3c",
        "colab": {
          "base_uri": "https://localhost:8080/",
          "height": 34
        }
      },
      "cell_type": "code",
      "source": [
        "gc.collect()"
      ],
      "execution_count": 0,
      "outputs": [
        {
          "output_type": "execute_result",
          "data": {
            "text/plain": [
              "0"
            ]
          },
          "metadata": {
            "tags": []
          },
          "execution_count": 32
        }
      ]
    },
    {
      "metadata": {
        "id": "G5eYovYuQKNr",
        "colab_type": "code",
        "outputId": "5b7a54cd-5e84-4b08-e054-c1f8227b096a",
        "colab": {
          "base_uri": "https://localhost:8080/",
          "height": 190
        }
      },
      "cell_type": "code",
      "source": [
        "from keras.models import load_model\n",
        "model=load_model('gdrive/new_model.h5')"
      ],
      "execution_count": 0,
      "outputs": [
        {
          "output_type": "stream",
          "text": [
            "WARNING:tensorflow:From /usr/local/lib/python3.6/dist-packages/tensorflow/python/framework/op_def_library.py:263: colocate_with (from tensorflow.python.framework.ops) is deprecated and will be removed in a future version.\n",
            "Instructions for updating:\n",
            "Colocations handled automatically by placer.\n",
            "WARNING:tensorflow:From /usr/local/lib/python3.6/dist-packages/keras/backend/tensorflow_backend.py:3368: calling dropout (from tensorflow.python.ops.nn_ops) with keep_prob is deprecated and will be removed in a future version.\n",
            "Instructions for updating:\n",
            "Please use `rate` instead of `keep_prob`. Rate should be set to `rate = 1 - keep_prob`.\n",
            "WARNING:tensorflow:From /usr/local/lib/python3.6/dist-packages/tensorflow/python/ops/math_ops.py:3066: to_int32 (from tensorflow.python.ops.math_ops) is deprecated and will be removed in a future version.\n",
            "Instructions for updating:\n",
            "Use tf.cast instead.\n"
          ],
          "name": "stdout"
        }
      ]
    },
    {
      "metadata": {
        "id": "W_5hXFsIVWTF",
        "colab_type": "code",
        "colab": {}
      },
      "cell_type": "code",
      "source": [
        "import zipfile\n",
        "!ls gdrive\n",
        "at=!unzip gdrive/AI_0_9_Images.zip"
      ],
      "execution_count": 0,
      "outputs": []
    },
    {
      "metadata": {
        "id": "R2SaWI8nVmEe",
        "colab_type": "code",
        "colab": {}
      },
      "cell_type": "code",
      "source": [
        "len(at)"
      ],
      "execution_count": 0,
      "outputs": []
    },
    {
      "metadata": {
        "id": "MbOXMkxsVtzk",
        "colab_type": "code",
        "colab": {}
      },
      "cell_type": "code",
      "source": [
        "images=[]\n",
        "for x in at[2:174]:\n",
        "  sp=x.split(':')\n",
        "  sp2=sp[1]\n",
        "  sp2=sp2.strip()\n",
        "  images.append(cv2.imread(sp2))"
      ],
      "execution_count": 0,
      "outputs": []
    },
    {
      "metadata": {
        "id": "Kfc7YtPxYMqK",
        "colab_type": "code",
        "colab": {}
      },
      "cell_type": "code",
      "source": [
        "nrows=150\n",
        "ncols=150"
      ],
      "execution_count": 0,
      "outputs": []
    },
    {
      "metadata": {
        "id": "x9x2wlLVX1wr",
        "colab_type": "code",
        "colab": {}
      },
      "cell_type": "code",
      "source": [
        "X_test=[]\n",
        "for img in images:\n",
        "    X_test.append(cv2.resize(img, (nrows, ncols), interpolation=cv2.INTER_CUBIC))"
      ],
      "execution_count": 0,
      "outputs": []
    },
    {
      "metadata": {
        "id": "DGXh4oItYYLL",
        "colab_type": "code",
        "colab": {}
      },
      "cell_type": "code",
      "source": [
        "len(X_test)\n",
        "X_test=np.asarray(X_test)\n"
      ],
      "execution_count": 0,
      "outputs": []
    },
    {
      "metadata": {
        "id": "N6k1RxCwJmV3",
        "colab_type": "code",
        "colab": {}
      },
      "cell_type": "code",
      "source": [
        "X_test=X_test/255"
      ],
      "execution_count": 0,
      "outputs": []
    },
    {
      "metadata": {
        "id": "0x7hPFQUZP_p",
        "colab_type": "code",
        "colab": {}
      },
      "cell_type": "code",
      "source": [
        "X_test"
      ],
      "execution_count": 0,
      "outputs": []
    },
    {
      "metadata": {
        "id": "WMyar_QkZarf",
        "colab_type": "code",
        "colab": {}
      },
      "cell_type": "code",
      "source": [
        "model.predict(X_test)"
      ],
      "execution_count": 0,
      "outputs": []
    },
    {
      "metadata": {
        "id": "rYoDdK_iaeWa",
        "colab_type": "code",
        "colab": {}
      },
      "cell_type": "code",
      "source": [
        "a[2:174]"
      ],
      "execution_count": 0,
      "outputs": []
    },
    {
      "metadata": {
        "id": "q95CyboEf-QY",
        "colab_type": "code",
        "colab": {}
      },
      "cell_type": "code",
      "source": [
        "import keras; print(keras.__version__)"
      ],
      "execution_count": 0,
      "outputs": []
    },
    {
      "metadata": {
        "id": "Xa4K5-OsQ1yq",
        "colab_type": "code",
        "colab": {}
      },
      "cell_type": "code",
      "source": [
        "test_datagen = ImageDataGenerator(rescale=1./255)\n",
        "x=X_test\n",
        "columns=2*100 \n",
        "i = 0\n",
        "text_labels = []\n",
        "predl=[]\n",
        "#plt.figure(figsize=(30,20))\n",
        "for batch in test_datagen.flow(x, batch_size=1):\n",
        "    pred = model.predict(batch)\n",
        "    predl.append(pred)\n",
        "    if pred > 0.9:\n",
        "        text_labels.append('Cheque')\n",
        "    else:\n",
        "        text_labels.append('Non-Cheque')\n",
        "    #plt.subplot(2*100 / columns + 1, columns, i + 1)\n",
        "    #plt.title('This is a ' + text_labels[i])\n",
        "    #imgplot = plt.imshow(batch[0])\n",
        "    i+=1\n",
        "    if i%172==0:\n",
        "        break;"
      ],
      "execution_count": 0,
      "outputs": []
    },
    {
      "metadata": {
        "id": "9Mi6BXq4Q8Rf",
        "colab_type": "code",
        "colab": {}
      },
      "cell_type": "code",
      "source": [
        "text_labels"
      ],
      "execution_count": 0,
      "outputs": []
    }
  ]
}